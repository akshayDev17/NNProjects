{
  "nbformat": 4,
  "nbformat_minor": 0,
  "metadata": {
    "colab": {
      "provenance": [],
      "collapsed_sections": [
        "RTy9GdYXy1fp",
        "nPgrDQiMOlOn"
      ],
      "gpuType": "T4"
    },
    "kernelspec": {
      "name": "python3",
      "display_name": "Python 3"
    },
    "language_info": {
      "name": "python"
    },
    "accelerator": "GPU"
  },
  "cells": [
    {
      "cell_type": "markdown",
      "source": [
        "# Download Dataset"
      ],
      "metadata": {
        "id": "JveN_nAoNDgq"
      }
    },
    {
      "cell_type": "code",
      "source": [
        "from keras.datasets import imdb\n",
        "(X_train, y_train), (X_test, y_test) = imdb.load_data()\n",
        "\n",
        "print(f\"#Training samples = {X_train.shape[0]}, #Testing samples = {X_test.shape[0]}.\\n\")\n",
        "\n",
        "print(X_train[:10])"
      ],
      "metadata": {
        "colab": {
          "base_uri": "https://localhost:8080/"
        },
        "id": "E3WT4jAwNt4M",
        "outputId": "e4900357-2c78-4a20-89c9-b777bb02c005"
      },
      "execution_count": null,
      "outputs": [
        {
          "output_type": "stream",
          "name": "stdout",
          "text": [
            "Downloading data from https://storage.googleapis.com/tensorflow/tf-keras-datasets/imdb.npz\n",
            "17464789/17464789 [==============================] - 0s 0us/step\n",
            "#Training samples = 25000, #Testing samples = 25000.\n",
            "\n",
            "[list([1, 14, 22, 16, 43, 530, 973, 1622, 1385, 65, 458, 4468, 66, 3941, 4, 173, 36, 256, 5, 25, 100, 43, 838, 112, 50, 670, 22665, 9, 35, 480, 284, 5, 150, 4, 172, 112, 167, 21631, 336, 385, 39, 4, 172, 4536, 1111, 17, 546, 38, 13, 447, 4, 192, 50, 16, 6, 147, 2025, 19, 14, 22, 4, 1920, 4613, 469, 4, 22, 71, 87, 12, 16, 43, 530, 38, 76, 15, 13, 1247, 4, 22, 17, 515, 17, 12, 16, 626, 18, 19193, 5, 62, 386, 12, 8, 316, 8, 106, 5, 4, 2223, 5244, 16, 480, 66, 3785, 33, 4, 130, 12, 16, 38, 619, 5, 25, 124, 51, 36, 135, 48, 25, 1415, 33, 6, 22, 12, 215, 28, 77, 52, 5, 14, 407, 16, 82, 10311, 8, 4, 107, 117, 5952, 15, 256, 4, 31050, 7, 3766, 5, 723, 36, 71, 43, 530, 476, 26, 400, 317, 46, 7, 4, 12118, 1029, 13, 104, 88, 4, 381, 15, 297, 98, 32, 2071, 56, 26, 141, 6, 194, 7486, 18, 4, 226, 22, 21, 134, 476, 26, 480, 5, 144, 30, 5535, 18, 51, 36, 28, 224, 92, 25, 104, 4, 226, 65, 16, 38, 1334, 88, 12, 16, 283, 5, 16, 4472, 113, 103, 32, 15, 16, 5345, 19, 178, 32])\n",
            " list([1, 194, 1153, 194, 8255, 78, 228, 5, 6, 1463, 4369, 5012, 134, 26, 4, 715, 8, 118, 1634, 14, 394, 20, 13, 119, 954, 189, 102, 5, 207, 110, 3103, 21, 14, 69, 188, 8, 30, 23, 7, 4, 249, 126, 93, 4, 114, 9, 2300, 1523, 5, 647, 4, 116, 9, 35, 8163, 4, 229, 9, 340, 1322, 4, 118, 9, 4, 130, 4901, 19, 4, 1002, 5, 89, 29, 952, 46, 37, 4, 455, 9, 45, 43, 38, 1543, 1905, 398, 4, 1649, 26, 6853, 5, 163, 11, 3215, 10156, 4, 1153, 9, 194, 775, 7, 8255, 11596, 349, 2637, 148, 605, 15358, 8003, 15, 123, 125, 68, 23141, 6853, 15, 349, 165, 4362, 98, 5, 4, 228, 9, 43, 36893, 1157, 15, 299, 120, 5, 120, 174, 11, 220, 175, 136, 50, 9, 4373, 228, 8255, 5, 25249, 656, 245, 2350, 5, 4, 9837, 131, 152, 491, 18, 46151, 32, 7464, 1212, 14, 9, 6, 371, 78, 22, 625, 64, 1382, 9, 8, 168, 145, 23, 4, 1690, 15, 16, 4, 1355, 5, 28, 6, 52, 154, 462, 33, 89, 78, 285, 16, 145, 95])\n",
            " list([1, 14, 47, 8, 30, 31, 7, 4, 249, 108, 7, 4, 5974, 54, 61, 369, 13, 71, 149, 14, 22, 112, 4, 2401, 311, 12, 16, 3711, 33, 75, 43, 1829, 296, 4, 86, 320, 35, 534, 19, 263, 4821, 1301, 4, 1873, 33, 89, 78, 12, 66, 16, 4, 360, 7, 4, 58, 316, 334, 11, 4, 1716, 43, 645, 662, 8, 257, 85, 1200, 42, 1228, 2578, 83, 68, 3912, 15, 36, 165, 1539, 278, 36, 69, 44076, 780, 8, 106, 14, 6905, 1338, 18, 6, 22, 12, 215, 28, 610, 40, 6, 87, 326, 23, 2300, 21, 23, 22, 12, 272, 40, 57, 31, 11, 4, 22, 47, 6, 2307, 51, 9, 170, 23, 595, 116, 595, 1352, 13, 191, 79, 638, 89, 51428, 14, 9, 8, 106, 607, 624, 35, 534, 6, 227, 7, 129, 113])\n",
            " list([1, 4, 18609, 16085, 33, 2804, 4, 2040, 432, 111, 153, 103, 4, 1494, 13, 70, 131, 67, 11, 61, 15305, 744, 35, 3715, 761, 61, 5766, 452, 9214, 4, 985, 7, 64317, 59, 166, 4, 105, 216, 1239, 41, 1797, 9, 15, 7, 35, 744, 2413, 31, 8, 4, 687, 23, 4, 33929, 7339, 6, 3693, 42, 38, 39, 121, 59, 456, 10, 10, 7, 265, 12, 575, 111, 153, 159, 59, 16, 1447, 21, 25, 586, 482, 39, 4, 96, 59, 716, 12, 4, 172, 65, 9, 579, 11, 6004, 4, 1615, 5, 23005, 7, 5168, 17, 13, 7064, 12, 19, 6, 464, 31, 314, 11, 87564, 6, 719, 605, 11, 8, 202, 27, 310, 4, 3772, 3501, 8, 2722, 58, 10, 10, 537, 2116, 180, 40, 14, 413, 173, 7, 263, 112, 37, 152, 377, 4, 537, 263, 846, 579, 178, 54, 75, 71, 476, 36, 413, 263, 2504, 182, 5, 17, 75, 2306, 922, 36, 279, 131, 2895, 17, 2867, 42, 17, 35, 921, 18435, 192, 5, 1219, 3890, 19, 20523, 217, 4122, 1710, 537, 20341, 1236, 5, 736, 10, 10, 61, 403, 9, 47289, 40, 61, 4494, 5, 27, 4494, 159, 90, 263, 2311, 4319, 309, 8, 178, 5, 82, 4319, 4, 65, 15, 9225, 145, 143, 5122, 12, 7039, 537, 746, 537, 537, 15, 7979, 4, 18665, 594, 7, 5168, 94, 9096, 3987, 15242, 11, 28280, 4, 538, 7, 1795, 246, 56615, 9, 10161, 11, 635, 14, 9, 51, 408, 12, 94, 318, 1382, 12, 47, 6, 2683, 936, 5, 6307, 10197, 19, 49, 7, 4, 1885, 13699, 1118, 25, 80, 126, 842, 10, 10, 47289, 18223, 4726, 27, 4494, 11, 1550, 3633, 159, 27, 341, 29, 2733, 19, 4185, 173, 7, 90, 16376, 8, 30, 11, 4, 1784, 86, 1117, 8, 3261, 46, 11, 25837, 21, 29, 9, 2841, 23, 4, 1010, 26747, 793, 6, 13699, 1386, 1830, 10, 10, 246, 50, 9, 6, 2750, 1944, 746, 90, 29, 16376, 8, 124, 4, 882, 4, 882, 496, 27, 33029, 2213, 537, 121, 127, 1219, 130, 5, 29, 494, 8, 124, 4, 882, 496, 4, 341, 7, 27, 846, 10, 10, 29, 9, 1906, 8, 97, 6, 236, 11120, 1311, 8, 4, 23643, 7, 31, 7, 29851, 91, 22793, 3987, 70, 4, 882, 30, 579, 42, 9, 12, 32, 11, 537, 10, 10, 11, 14, 65, 44, 537, 75, 11876, 1775, 3353, 12716, 1846, 4, 11286, 7, 154, 5, 4, 518, 53, 13243, 11286, 7, 3211, 882, 11, 399, 38, 75, 257, 3807, 19, 18223, 17, 29, 456, 4, 65, 7, 27, 205, 113, 10, 10, 33058, 4, 22793, 10359, 9, 242, 4, 91, 1202, 11377, 5, 2070, 307, 22, 7, 5168, 126, 93, 40, 18223, 13, 188, 1076, 3222, 19, 4, 13465, 7, 2348, 537, 23, 53, 537, 21, 82, 40, 18223, 13, 33195, 14, 280, 13, 219, 4, 52788, 431, 758, 859, 4, 953, 1052, 12283, 7, 5991, 5, 94, 40, 25, 238, 60, 35410, 4, 15812, 804, 27767, 7, 4, 9941, 132, 8, 67, 6, 22, 15, 9, 283, 8, 5168, 14, 31, 9, 242, 955, 48, 25, 279, 22148, 23, 12, 1685, 195, 25, 238, 60, 796, 13713, 4, 671, 7, 2804, 5, 4, 559, 154, 888, 7, 726, 50, 26, 49, 7008, 15, 566, 30, 579, 21, 64, 2574])\n",
            " list([1, 249, 1323, 7, 61, 113, 10, 10, 13, 1637, 14, 20, 56, 33, 2401, 18, 457, 88, 13, 2626, 1400, 45, 3171, 13, 70, 79, 49, 706, 919, 13, 16, 355, 340, 355, 1696, 96, 143, 4, 22, 32, 289, 7, 61, 369, 71, 2359, 5, 13, 16, 131, 2073, 249, 114, 249, 229, 249, 20, 13, 28, 126, 110, 13, 473, 8, 569, 61, 419, 56, 429, 6, 1513, 18, 35, 534, 95, 474, 570, 5, 25, 124, 138, 88, 12, 421, 1543, 52, 725, 6397, 61, 419, 11, 13, 1571, 15, 1543, 20, 11, 4, 22016, 5, 296, 12, 3524, 5, 15, 421, 128, 74, 233, 334, 207, 126, 224, 12, 562, 298, 2167, 1272, 7, 2601, 5, 516, 988, 43, 8, 79, 120, 15, 595, 13, 784, 25, 3171, 18, 165, 170, 143, 19, 14, 5, 7224, 6, 226, 251, 7, 61, 113])\n",
            " list([1, 778, 128, 74, 12, 630, 163, 15, 4, 1766, 7982, 1051, 43222, 32, 85, 156, 45, 40, 148, 139, 121, 664, 665, 10, 10, 1361, 173, 4, 749, 86588, 16, 3804, 8, 4, 226, 65, 12, 43, 127, 24, 15344, 10, 10])\n",
            " list([1, 6740, 365, 1234, 5, 1156, 354, 11, 14, 5327, 6638, 7, 1016, 10626, 5940, 356, 44, 4, 1349, 500, 746, 5, 200, 4, 4132, 11, 16393, 9363, 1117, 1831, 7485, 5, 4831, 26, 6, 71690, 4183, 17, 369, 37, 215, 1345, 143, 32677, 5, 1838, 8, 1974, 15, 36, 119, 257, 85, 52, 486, 9, 6, 26441, 8564, 63, 271, 6, 196, 96, 949, 4121, 4, 74170, 7, 4, 2212, 2436, 819, 63, 47, 77, 7175, 180, 6, 227, 11, 94, 2494, 33740, 13, 423, 4, 168, 7, 4, 22, 5, 89, 665, 71, 270, 56, 5, 13, 197, 12, 161, 5390, 99, 76, 23, 77842, 7, 419, 665, 40, 91, 85, 108, 7, 4, 2084, 5, 4773, 81, 55, 52, 1901])\n",
            " list([1, 4, 14906, 716, 4, 65, 7, 4, 689, 4367, 6308, 2343, 4804, 28674, 84206, 5270, 32099, 2315, 71688, 12572, 24785, 43394, 4, 10993, 628, 7685, 37, 9, 150, 4, 9820, 4069, 11, 2909, 4, 16287, 847, 313, 6, 176, 63860, 9, 6202, 138, 9, 4434, 19, 4, 96, 183, 26, 4, 192, 15, 27, 5842, 799, 7101, 39455, 588, 84, 11, 4, 3231, 152, 339, 5206, 42, 4869, 30497, 6293, 345, 4804, 37377, 142, 43, 218, 208, 54, 29, 853, 659, 46, 4, 882, 183, 80, 115, 30, 4, 172, 174, 10, 10, 1001, 398, 1001, 1055, 526, 34, 3717, 68395, 5262, 63370, 17, 4, 6706, 1094, 871, 64, 85, 22, 2030, 1109, 38, 230, 9, 4, 4324, 20636, 251, 5056, 1034, 195, 301, 14, 16, 31, 7, 4, 46035, 8, 783, 48545, 33, 4, 2945, 103, 465, 16454, 42, 845, 45, 446, 11, 1895, 19, 184, 76, 32, 4, 5310, 207, 110, 13, 197, 4, 14906, 16, 601, 964, 2152, 595, 13, 258, 4, 1730, 66, 338, 55, 5312, 4, 550, 728, 65, 1196, 8, 1839, 61, 1546, 42, 8361, 61, 602, 120, 45, 7304, 6, 320, 786, 99, 196, 11100, 786, 5936, 4, 225, 4, 373, 1009, 33, 4, 130, 63, 69, 72, 1104, 46, 1292, 225, 14, 66, 194, 11871, 1703, 56, 8, 803, 1004, 6, 18763, 155, 11, 4, 14906, 3231, 45, 853, 2029, 8, 30, 6, 117, 430, 19, 6, 8941, 9, 15, 66, 424, 8, 2337, 178, 9, 15, 66, 424, 8, 1465, 178, 9, 15, 66, 142, 15, 9, 424, 8, 28, 178, 662, 44, 12, 17, 4, 130, 898, 1686, 9, 6, 5623, 267, 185, 430, 4, 118, 21486, 277, 15, 4, 1188, 100, 216, 56, 19, 4, 357, 114, 10399, 367, 45, 115, 93, 788, 121, 4, 14906, 79, 32, 68, 278, 39, 8, 818, 162, 4165, 237, 600, 7, 98, 306, 8, 157, 549, 628, 11, 6, 12370, 13, 824, 15, 4104, 76, 42, 138, 36, 774, 77, 1059, 159, 150, 4, 229, 497, 8, 1493, 11, 175, 251, 453, 19, 8651, 189, 12, 43, 127, 6, 394, 292, 7, 8253, 4, 107, 8, 4, 2826, 15, 1082, 1251, 9, 906, 42, 1134, 6, 66, 78, 22, 15, 13, 244, 2519, 8, 135, 233, 52, 44, 10, 10, 466, 112, 398, 526, 34, 4, 1572, 4413, 6706, 1094, 225, 57, 599, 133, 225, 6, 227, 7, 541, 4323, 6, 171, 139, 7, 539, 11890, 56, 11, 6, 3231, 21, 164, 25, 426, 81, 33, 344, 624, 19, 6, 4617, 7, 10373, 12958, 6, 5802, 4, 22, 9, 1082, 629, 237, 45, 188, 6, 55, 655, 707, 6371, 956, 225, 1456, 841, 42, 1310, 225, 6, 2493, 1467, 7722, 2828, 21, 4, 14906, 9, 364, 23, 4, 2228, 2407, 225, 24, 76, 133, 18, 4, 189, 2293, 10, 10, 814, 11, 53728, 11, 2642, 14, 47, 15, 682, 364, 352, 168, 44, 12, 45, 24, 913, 93, 21, 247, 2441, 4, 116, 34, 35, 1859, 8, 72, 177, 9, 164, 8, 901, 344, 44, 13, 191, 135, 13, 126, 421, 233, 18, 259, 10, 10, 4, 14906, 6847, 4, 14065, 3074, 7, 112, 199, 753, 357, 39, 63, 12, 115, 15222, 763, 8, 15, 35, 3282, 1523, 65, 57, 599, 6, 1916, 277, 1730, 37, 25, 92, 202, 6, 8848, 44, 25, 28, 6, 22, 15, 122, 24, 4171, 72, 33, 32])\n",
            " list([1, 43, 188, 46, 5, 566, 264, 51, 6, 530, 664, 14, 9, 1713, 81, 25, 1135, 46, 7, 6, 20, 750, 11, 141, 4299, 5, 15455, 4441, 102, 28, 413, 38, 120, 5533, 15, 4, 3974, 7, 5369, 142, 371, 318, 5, 955, 1713, 571, 25242, 24762, 122, 14, 8, 72, 54, 12, 86, 385, 46, 5, 14, 20, 9, 399, 8, 72, 150, 13, 161, 124, 6, 155, 44, 14, 159, 170, 83, 12, 5, 51, 6, 866, 48, 25, 842, 4, 1120, 25, 238, 79, 4, 547, 15, 14, 9, 31, 7, 148, 16126, 102, 44, 35, 480, 3823, 2380, 19, 120, 4, 350, 228, 5, 269, 8, 28, 178, 1314, 2347, 7, 51, 6, 87, 65, 12, 9, 979, 21, 95, 24, 3186, 178, 11, 40732, 14, 9, 24, 15, 20, 4, 84, 376, 4, 65, 14, 127, 141, 6, 52, 292, 7, 4751, 175, 561, 7, 68, 3866, 137, 75, 2541, 68, 182, 5, 235, 175, 333, 19, 98, 50, 9, 38, 76, 724, 4, 6750, 15, 166, 285, 36, 140, 143, 38, 76, 53, 3094, 1301, 4, 6991, 16, 82, 6, 87, 3578, 44, 2527, 7612, 5, 800, 4, 3033, 11, 35, 1728, 96, 21, 14, 22, 9, 76, 53, 7, 6, 406, 65, 13, 43, 219, 12, 639, 21, 13, 80, 140, 5, 135, 15, 14, 9, 31, 7, 4, 118, 3672, 13, 28, 126, 110])\n",
            " list([1, 14, 20, 47, 111, 439, 3445, 19, 12, 15, 166, 12, 216, 125, 40, 6, 364, 352, 707, 1187, 39, 294, 11, 22, 396, 13, 28, 8, 202, 12, 1109, 23, 94, 15201, 151, 111, 211, 469, 4, 20, 13, 258, 546, 1104, 7273, 12, 16, 38, 78, 33, 211, 15, 12, 16, 2849, 63, 93, 12, 6, 253, 106, 10, 10, 48, 335, 267, 18, 6, 364, 1242, 1179, 20, 19, 6, 1009, 7, 1987, 189, 5, 6, 8419, 7, 2723, 13209, 95, 1719, 6, 6035, 7, 3912, 7144, 49, 369, 120, 5, 28, 49, 253, 10, 10, 13, 1041, 19, 85, 795, 15, 4, 481, 9, 55, 78, 807, 9, 375, 8, 1167, 8, 794, 76, 7, 4, 58, 5, 4, 816, 9, 243, 7, 43, 50])]\n"
          ]
        }
      ]
    },
    {
      "cell_type": "code",
      "source": [
        "print(X_train.shape)"
      ],
      "metadata": {
        "colab": {
          "base_uri": "https://localhost:8080/"
        },
        "id": "GHDdMLrAOQ0e",
        "outputId": "831ddcb8-e5c3-4352-b689-4cf72d16c322"
      },
      "execution_count": null,
      "outputs": [
        {
          "output_type": "stream",
          "name": "stdout",
          "text": [
            "(25000,)\n"
          ]
        }
      ]
    },
    {
      "cell_type": "code",
      "source": [
        "for i in range(15):\n",
        "  print(f\"#Elements in sample {i} are {len(X_train[i])}\")"
      ],
      "metadata": {
        "colab": {
          "base_uri": "https://localhost:8080/"
        },
        "id": "6aCV1JtmOSQn",
        "outputId": "f4e124f2-fda1-4e2a-d65c-80c303da083d"
      },
      "execution_count": null,
      "outputs": [
        {
          "output_type": "stream",
          "name": "stdout",
          "text": [
            "#Elements in sample 0 are 218\n",
            "#Elements in sample 1 are 189\n",
            "#Elements in sample 2 are 141\n",
            "#Elements in sample 3 are 550\n",
            "#Elements in sample 4 are 147\n",
            "#Elements in sample 5 are 43\n",
            "#Elements in sample 6 are 123\n",
            "#Elements in sample 7 are 562\n",
            "#Elements in sample 8 are 233\n",
            "#Elements in sample 9 are 130\n",
            "#Elements in sample 10 are 450\n",
            "#Elements in sample 11 are 99\n",
            "#Elements in sample 12 are 117\n",
            "#Elements in sample 13 are 238\n",
            "#Elements in sample 14 are 109\n"
          ]
        }
      ]
    },
    {
      "cell_type": "code",
      "source": [
        "print(y_train.shape)\n",
        "print(y_train[:10])"
      ],
      "metadata": {
        "colab": {
          "base_uri": "https://localhost:8080/"
        },
        "id": "b6ljlOgFvvX8",
        "outputId": "135739e1-039d-4093-f71f-a829925ba37b"
      },
      "execution_count": null,
      "outputs": [
        {
          "output_type": "stream",
          "name": "stdout",
          "text": [
            "(25000,)\n",
            "[1 0 0 1 0 0 1 0 1 0]\n"
          ]
        }
      ]
    },
    {
      "cell_type": "markdown",
      "source": [
        "# Format Dataset\n",
        "- Since each sample can have unique number of words, padding is essential."
      ],
      "metadata": {
        "id": "G1cT99ObNHxA"
      }
    },
    {
      "cell_type": "code",
      "source": [
        "from keras.preprocessing.sequence import pad_sequences\n",
        "\n",
        "X_train_padded = pad_sequences(X_train, padding='post', maxlen=100)\n",
        "X_test_padded = pad_sequences(X_test, padding='post', maxlen=100)\n",
        "\n",
        "print(f\"Shapes of X_train_padded and X_test_padded are = {X_train_padded.shape} and {X_test_padded.shape} respectively.\\n\")"
      ],
      "metadata": {
        "colab": {
          "base_uri": "https://localhost:8080/"
        },
        "id": "askaSU4ZOcVP",
        "outputId": "7788b54f-8fa0-4992-ed42-47264fb26123"
      },
      "execution_count": null,
      "outputs": [
        {
          "output_type": "stream",
          "name": "stdout",
          "text": [
            "Shapes of X_train_padded and X_test_padded are = (25000, 100) and (25000, 100) respectively.\n",
            "\n"
          ]
        }
      ]
    },
    {
      "cell_type": "code",
      "source": [
        "X_train_padded[:10]"
      ],
      "metadata": {
        "colab": {
          "base_uri": "https://localhost:8080/"
        },
        "id": "1TOzuhPdv2h3",
        "outputId": "f5f0b3f3-5e55-48ff-f19c-28463c8c0d62"
      },
      "execution_count": null,
      "outputs": [
        {
          "output_type": "execute_result",
          "data": {
            "text/plain": [
              "array([[ 1415,    33,     6,    22,    12,   215,    28,    77,    52,\n",
              "            5,    14,   407,    16,    82, 10311,     8,     4,   107,\n",
              "          117,  5952,    15,   256,     4, 31050,     7,  3766,     5,\n",
              "          723,    36,    71,    43,   530,   476,    26,   400,   317,\n",
              "           46,     7,     4, 12118,  1029,    13,   104,    88,     4,\n",
              "          381,    15,   297,    98,    32,  2071,    56,    26,   141,\n",
              "            6,   194,  7486,    18,     4,   226,    22,    21,   134,\n",
              "          476,    26,   480,     5,   144,    30,  5535,    18,    51,\n",
              "           36,    28,   224,    92,    25,   104,     4,   226,    65,\n",
              "           16,    38,  1334,    88,    12,    16,   283,     5,    16,\n",
              "         4472,   113,   103,    32,    15,    16,  5345,    19,   178,\n",
              "           32],\n",
              "       [  163,    11,  3215, 10156,     4,  1153,     9,   194,   775,\n",
              "            7,  8255, 11596,   349,  2637,   148,   605, 15358,  8003,\n",
              "           15,   123,   125,    68, 23141,  6853,    15,   349,   165,\n",
              "         4362,    98,     5,     4,   228,     9,    43, 36893,  1157,\n",
              "           15,   299,   120,     5,   120,   174,    11,   220,   175,\n",
              "          136,    50,     9,  4373,   228,  8255,     5, 25249,   656,\n",
              "          245,  2350,     5,     4,  9837,   131,   152,   491,    18,\n",
              "        46151,    32,  7464,  1212,    14,     9,     6,   371,    78,\n",
              "           22,   625,    64,  1382,     9,     8,   168,   145,    23,\n",
              "            4,  1690,    15,    16,     4,  1355,     5,    28,     6,\n",
              "           52,   154,   462,    33,    89,    78,   285,    16,   145,\n",
              "           95],\n",
              "       [ 1301,     4,  1873,    33,    89,    78,    12,    66,    16,\n",
              "            4,   360,     7,     4,    58,   316,   334,    11,     4,\n",
              "         1716,    43,   645,   662,     8,   257,    85,  1200,    42,\n",
              "         1228,  2578,    83,    68,  3912,    15,    36,   165,  1539,\n",
              "          278,    36,    69, 44076,   780,     8,   106,    14,  6905,\n",
              "         1338,    18,     6,    22,    12,   215,    28,   610,    40,\n",
              "            6,    87,   326,    23,  2300,    21,    23,    22,    12,\n",
              "          272,    40,    57,    31,    11,     4,    22,    47,     6,\n",
              "         2307,    51,     9,   170,    23,   595,   116,   595,  1352,\n",
              "           13,   191,    79,   638,    89, 51428,    14,     9,     8,\n",
              "          106,   607,   624,    35,   534,     6,   227,     7,   129,\n",
              "          113],\n",
              "       [   40, 18223,    13,   188,  1076,  3222,    19,     4, 13465,\n",
              "            7,  2348,   537,    23,    53,   537,    21,    82,    40,\n",
              "        18223,    13, 33195,    14,   280,    13,   219,     4, 52788,\n",
              "          431,   758,   859,     4,   953,  1052, 12283,     7,  5991,\n",
              "            5,    94,    40,    25,   238,    60, 35410,     4, 15812,\n",
              "          804, 27767,     7,     4,  9941,   132,     8,    67,     6,\n",
              "           22,    15,     9,   283,     8,  5168,    14,    31,     9,\n",
              "          242,   955,    48,    25,   279, 22148,    23,    12,  1685,\n",
              "          195,    25,   238,    60,   796, 13713,     4,   671,     7,\n",
              "         2804,     5,     4,   559,   154,   888,     7,   726,    50,\n",
              "           26,    49,  7008,    15,   566,    30,   579,    21,    64,\n",
              "         2574],\n",
              "       [   13,    16,   131,  2073,   249,   114,   249,   229,   249,\n",
              "           20,    13,    28,   126,   110,    13,   473,     8,   569,\n",
              "           61,   419,    56,   429,     6,  1513,    18,    35,   534,\n",
              "           95,   474,   570,     5,    25,   124,   138,    88,    12,\n",
              "          421,  1543,    52,   725,  6397,    61,   419,    11,    13,\n",
              "         1571,    15,  1543,    20,    11,     4, 22016,     5,   296,\n",
              "           12,  3524,     5,    15,   421,   128,    74,   233,   334,\n",
              "          207,   126,   224,    12,   562,   298,  2167,  1272,     7,\n",
              "         2601,     5,   516,   988,    43,     8,    79,   120,    15,\n",
              "          595,    13,   784,    25,  3171,    18,   165,   170,   143,\n",
              "           19,    14,     5,  7224,     6,   226,   251,     7,    61,\n",
              "          113],\n",
              "       [    1,   778,   128,    74,    12,   630,   163,    15,     4,\n",
              "         1766,  7982,  1051, 43222,    32,    85,   156,    45,    40,\n",
              "          148,   139,   121,   664,   665,    10,    10,  1361,   173,\n",
              "            4,   749, 86588,    16,  3804,     8,     4,   226,    65,\n",
              "           12,    43,   127,    24, 15344,    10,    10,     0,     0,\n",
              "            0,     0,     0,     0,     0,     0,     0,     0,     0,\n",
              "            0,     0,     0,     0,     0,     0,     0,     0,     0,\n",
              "            0,     0,     0,     0,     0,     0,     0,     0,     0,\n",
              "            0,     0,     0,     0,     0,     0,     0,     0,     0,\n",
              "            0,     0,     0,     0,     0,     0,     0,     0,     0,\n",
              "            0,     0,     0,     0,     0,     0,     0,     0,     0,\n",
              "            0],\n",
              "       [    4,  4132,    11, 16393,  9363,  1117,  1831,  7485,     5,\n",
              "         4831,    26,     6, 71690,  4183,    17,   369,    37,   215,\n",
              "         1345,   143, 32677,     5,  1838,     8,  1974,    15,    36,\n",
              "          119,   257,    85,    52,   486,     9,     6, 26441,  8564,\n",
              "           63,   271,     6,   196,    96,   949,  4121,     4, 74170,\n",
              "            7,     4,  2212,  2436,   819,    63,    47,    77,  7175,\n",
              "          180,     6,   227,    11,    94,  2494, 33740,    13,   423,\n",
              "            4,   168,     7,     4,    22,     5,    89,   665,    71,\n",
              "          270,    56,     5,    13,   197,    12,   161,  5390,    99,\n",
              "           76,    23, 77842,     7,   419,   665,    40,    91,    85,\n",
              "          108,     7,     4,  2084,     5,  4773,    81,    55,    52,\n",
              "         1901],\n",
              "       [  133,    18,     4,   189,  2293,    10,    10,   814,    11,\n",
              "        53728,    11,  2642,    14,    47,    15,   682,   364,   352,\n",
              "          168,    44,    12,    45,    24,   913,    93,    21,   247,\n",
              "         2441,     4,   116,    34,    35,  1859,     8,    72,   177,\n",
              "            9,   164,     8,   901,   344,    44,    13,   191,   135,\n",
              "           13,   126,   421,   233,    18,   259,    10,    10,     4,\n",
              "        14906,  6847,     4, 14065,  3074,     7,   112,   199,   753,\n",
              "          357,    39,    63,    12,   115, 15222,   763,     8,    15,\n",
              "           35,  3282,  1523,    65,    57,   599,     6,  1916,   277,\n",
              "         1730,    37,    25,    92,   202,     6,  8848,    44,    25,\n",
              "           28,     6,    22,    15,   122,    24,  4171,    72,    33,\n",
              "           32],\n",
              "       [   15,    20,     4,    84,   376,     4,    65,    14,   127,\n",
              "          141,     6,    52,   292,     7,  4751,   175,   561,     7,\n",
              "           68,  3866,   137,    75,  2541,    68,   182,     5,   235,\n",
              "          175,   333,    19,    98,    50,     9,    38,    76,   724,\n",
              "            4,  6750,    15,   166,   285,    36,   140,   143,    38,\n",
              "           76,    53,  3094,  1301,     4,  6991,    16,    82,     6,\n",
              "           87,  3578,    44,  2527,  7612,     5,   800,     4,  3033,\n",
              "           11,    35,  1728,    96,    21,    14,    22,     9,    76,\n",
              "           53,     7,     6,   406,    65,    13,    43,   219,    12,\n",
              "          639,    21,    13,    80,   140,     5,   135,    15,    14,\n",
              "            9,    31,     7,     4,   118,  3672,    13,    28,   126,\n",
              "          110],\n",
              "       [ 1109,    23,    94, 15201,   151,   111,   211,   469,     4,\n",
              "           20,    13,   258,   546,  1104,  7273,    12,    16,    38,\n",
              "           78,    33,   211,    15,    12,    16,  2849,    63,    93,\n",
              "           12,     6,   253,   106,    10,    10,    48,   335,   267,\n",
              "           18,     6,   364,  1242,  1179,    20,    19,     6,  1009,\n",
              "            7,  1987,   189,     5,     6,  8419,     7,  2723, 13209,\n",
              "           95,  1719,     6,  6035,     7,  3912,  7144,    49,   369,\n",
              "          120,     5,    28,    49,   253,    10,    10,    13,  1041,\n",
              "           19,    85,   795,    15,     4,   481,     9,    55,    78,\n",
              "          807,     9,   375,     8,  1167,     8,   794,    76,     7,\n",
              "            4,    58,     5,     4,   816,     9,   243,     7,    43,\n",
              "           50]], dtype=int32)"
            ]
          },
          "metadata": {},
          "execution_count": 6
        }
      ]
    },
    {
      "cell_type": "markdown",
      "source": [
        "# ANN"
      ],
      "metadata": {
        "id": "nKa6ysb9NLBi"
      }
    },
    {
      "cell_type": "code",
      "source": [
        "from keras.models import Sequential\n",
        "from keras.layers import Dense"
      ],
      "metadata": {
        "id": "c1-U591yuKTv"
      },
      "execution_count": null,
      "outputs": []
    },
    {
      "cell_type": "code",
      "source": [
        "ann = Sequential()\n",
        "\n",
        "ann.add(Dense(units=200, activation='relu', input_shape=(100,)))\n",
        "ann.add(Dense(units=300, activation='elu'))\n",
        "ann.add(Dense(units=150, activation='selu'))\n",
        "ann.add(Dense(units=100, activation='tanh'))\n",
        "ann.add(Dense(units=60, activation='elu'))\n",
        "ann.add(Dense(units=1, activation='sigmoid')) # binary classification\n",
        "\n",
        "ann.summary()"
      ],
      "metadata": {
        "colab": {
          "base_uri": "https://localhost:8080/"
        },
        "id": "fXz7fSxqvOX9",
        "outputId": "9807da38-7c91-477c-d177-ea3552de3929"
      },
      "execution_count": null,
      "outputs": [
        {
          "output_type": "stream",
          "name": "stdout",
          "text": [
            "Model: \"sequential_1\"\n",
            "_________________________________________________________________\n",
            " Layer (type)                Output Shape              Param #   \n",
            "=================================================================\n",
            " dense_6 (Dense)             (None, 200)               20200     \n",
            "                                                                 \n",
            " dense_7 (Dense)             (None, 300)               60300     \n",
            "                                                                 \n",
            " dense_8 (Dense)             (None, 150)               45150     \n",
            "                                                                 \n",
            " dense_9 (Dense)             (None, 100)               15100     \n",
            "                                                                 \n",
            " dense_10 (Dense)            (None, 60)                6060      \n",
            "                                                                 \n",
            " dense_11 (Dense)            (None, 1)                 61        \n",
            "                                                                 \n",
            "=================================================================\n",
            "Total params: 146871 (573.71 KB)\n",
            "Trainable params: 146871 (573.71 KB)\n",
            "Non-trainable params: 0 (0.00 Byte)\n",
            "_________________________________________________________________\n"
          ]
        }
      ]
    },
    {
      "cell_type": "code",
      "source": [
        "from keras.callbacks import EarlyStopping, Callback\n",
        "\n",
        "class OverfitDetector(Callback):\n",
        "\n",
        "  def __init__(self, patience=0):\n",
        "    super(OverfitDetector, self).__init__()\n",
        "    self.patience = patience\n",
        "    self.wait = 0\n",
        "    self.best_train_loss = float('inf')\n",
        "    self.best_val_loss = float('inf')\n",
        "\n",
        "  def on_epoch_end(self, epoch, logs=None):\n",
        "    current_val_loss = logs.get('val_loss')\n",
        "    current_train_loss = logs.get('loss')\n",
        "\n",
        "    self.best_train_loss = min(self.best_train_loss, current_train_loss)\n",
        "\n",
        "    if current_val_loss < self.best_val_loss:\n",
        "      # validation loss gone down, improvement in model observed in this epoch\n",
        "      self.best_val_loss = current_val_loss\n",
        "      self.wait = 0\n",
        "    else:\n",
        "      # validation loss stayed same/gone higher\n",
        "      # possible overfitting\n",
        "      self.wait += 1\n",
        "      if self.wait >= self.patience:\n",
        "          print(f\"\\nEpoch {epoch + 1}: Overfitting detected! Stopping training.\")\n",
        "          self.model.stop_training = True\n",
        "\n",
        "# es = EarlyStopping(monitor='val_loss', patience=10, verbose=1)\n",
        "es = EarlyStopping(monitor='val_accuracy', patience=10, verbose=1)\n",
        "overfit_ = OverfitDetector(patience=8)"
      ],
      "metadata": {
        "id": "WtjUbRSCeF-h"
      },
      "execution_count": null,
      "outputs": []
    },
    {
      "cell_type": "code",
      "source": [
        "ann.compile(optimizer='adam', loss='binary_crossentropy', metrics=['accuracy'])\n",
        "\n",
        "ann_history = ann.fit(X_train_padded, y_train, batch_size=32, epochs=100, validation_split=(0.2), callbacks=[es, overfit_])"
      ],
      "metadata": {
        "colab": {
          "base_uri": "https://localhost:8080/"
        },
        "collapsed": true,
        "id": "2ZGVVqlAv9aE",
        "outputId": "9d8235bd-992b-4841-e087-0f333c44ae67"
      },
      "execution_count": null,
      "outputs": [
        {
          "output_type": "stream",
          "name": "stdout",
          "text": [
            "Epoch 1/100\n",
            "625/625 [==============================] - 5s 4ms/step - loss: 0.7036 - accuracy: 0.5063 - val_loss: 0.6939 - val_accuracy: 0.5042\n",
            "Epoch 2/100\n",
            "625/625 [==============================] - 2s 4ms/step - loss: 0.6988 - accuracy: 0.4951 - val_loss: 0.6932 - val_accuracy: 0.5062\n",
            "Epoch 3/100\n",
            "625/625 [==============================] - 2s 4ms/step - loss: 0.6983 - accuracy: 0.4987 - val_loss: 0.7040 - val_accuracy: 0.5062\n",
            "Epoch 4/100\n",
            "625/625 [==============================] - 3s 4ms/step - loss: 0.6991 - accuracy: 0.4994 - val_loss: 0.6988 - val_accuracy: 0.5062\n",
            "Epoch 5/100\n",
            "625/625 [==============================] - 3s 5ms/step - loss: 0.6956 - accuracy: 0.5027 - val_loss: 0.6938 - val_accuracy: 0.5062\n",
            "Epoch 6/100\n",
            "625/625 [==============================] - 2s 4ms/step - loss: 0.6957 - accuracy: 0.4999 - val_loss: 0.7107 - val_accuracy: 0.5062\n",
            "Epoch 7/100\n",
            "625/625 [==============================] - 3s 4ms/step - loss: 0.6953 - accuracy: 0.5001 - val_loss: 0.6942 - val_accuracy: 0.5062\n",
            "Epoch 8/100\n",
            "625/625 [==============================] - 2s 4ms/step - loss: 0.6957 - accuracy: 0.4913 - val_loss: 0.6934 - val_accuracy: 0.5062\n",
            "Epoch 9/100\n",
            "625/625 [==============================] - 3s 4ms/step - loss: 0.6948 - accuracy: 0.5012 - val_loss: 0.6968 - val_accuracy: 0.5062\n",
            "Epoch 10/100\n",
            "625/625 [==============================] - 3s 5ms/step - loss: 0.6952 - accuracy: 0.5001 - val_loss: 0.6931 - val_accuracy: 0.5062\n",
            "Epoch 11/100\n",
            "625/625 [==============================] - 2s 4ms/step - loss: 0.6944 - accuracy: 0.5015 - val_loss: 0.6933 - val_accuracy: 0.4936\n",
            "Epoch 12/100\n",
            "625/625 [==============================] - 2s 4ms/step - loss: 0.6953 - accuracy: 0.5013 - val_loss: 0.6961 - val_accuracy: 0.4938\n",
            "Epoch 12: early stopping\n"
          ]
        }
      ]
    },
    {
      "cell_type": "code",
      "source": [
        "import matplotlib.pyplot as plt\n",
        "\n",
        "plt.plot(range(len(ann_history.history['loss'])), ann_history.history['loss'], label='training loss')\n",
        "plt.plot(range(len(ann_history.history['loss'])), ann_history.history['val_loss'], label='validation loss')\n",
        "plt.plot(range(len(ann_history.history['loss'])), ann_history.history['accuracy'], label='training accuracy')\n",
        "plt.plot(range(len(ann_history.history['loss'])), ann_history.history['val_accuracy'], label='validation accuracy')\n",
        "\n",
        "plt.legend()\n",
        "plt.show()"
      ],
      "metadata": {
        "colab": {
          "base_uri": "https://localhost:8080/",
          "height": 430
        },
        "id": "2RyzRHIBw2Ek",
        "outputId": "3608906b-5050-4df8-931f-2eebad808d1c"
      },
      "execution_count": null,
      "outputs": [
        {
          "output_type": "display_data",
          "data": {
            "text/plain": [
              "<Figure size 640x480 with 1 Axes>"
            ],
            "image/png": "[encoded data removed]"
          },
          "metadata": {}
        }
      ]
    },
    {
      "cell_type": "code",
      "source": [
        "import numpy as np\n",
        "\n",
        "y_pred = ann.predict(X_test_padded)\n",
        "y_pred = np.where(y_pred >= 0.5, 1, 0)\n",
        "y_pred[:10]"
      ],
      "metadata": {
        "colab": {
          "base_uri": "https://localhost:8080/"
        },
        "id": "h0fjEJcbz9B2",
        "outputId": "92550f13-b136-47cb-9109-a234e8dcf26a"
      },
      "execution_count": null,
      "outputs": [
        {
          "output_type": "stream",
          "name": "stdout",
          "text": [
            "782/782 [==============================] - 2s 2ms/step\n"
          ]
        },
        {
          "output_type": "execute_result",
          "data": {
            "text/plain": [
              "array([[1],\n",
              "       [1],\n",
              "       [1],\n",
              "       [1],\n",
              "       [1],\n",
              "       [1],\n",
              "       [1],\n",
              "       [1],\n",
              "       [1],\n",
              "       [1]])"
            ]
          },
          "metadata": {},
          "execution_count": 15
        }
      ]
    },
    {
      "cell_type": "code",
      "source": [
        "from sklearn.metrics import accuracy_score\n",
        "\n",
        "print(f\"Accuracy for test set is {accuracy_score(y_test, y_pred)}\")"
      ],
      "metadata": {
        "colab": {
          "base_uri": "https://localhost:8080/"
        },
        "id": "X7c761pcvtgz",
        "outputId": "e542eb62-b49d-4bf4-b027-d4635bc6f112"
      },
      "execution_count": null,
      "outputs": [
        {
          "output_type": "stream",
          "name": "stdout",
          "text": [
            "Accuracy for test set is 0.5\n"
          ]
        }
      ]
    },
    {
      "cell_type": "markdown",
      "source": [
        "## Problem\n",
        "- a problem that could've occurred is that the integer encoding could cause some *features* to blow up in value, against others that have smaller integer-value on being encoded.\n",
        "- hence we might need to normalize across each feature."
      ],
      "metadata": {
        "id": "P5GX36RmyeiU"
      }
    },
    {
      "cell_type": "markdown",
      "source": [
        "## ANN with normalized integer-encoded words.\n",
        "- normalize for each of the 100 words, across each sample."
      ],
      "metadata": {
        "id": "RTy9GdYXy1fp"
      }
    },
    {
      "cell_type": "code",
      "source": [
        "from sklearn.preprocessing import StandardScaler\n",
        "\n",
        "scaler = StandardScaler()\n",
        "X_train_padded_scaled = scaler.fit_transform(X_train_padded)\n",
        "X_test_padded_scaled = scaler.transform(X_test_padded)"
      ],
      "metadata": {
        "id": "QQdMVvYNy9kv"
      },
      "execution_count": null,
      "outputs": []
    },
    {
      "cell_type": "code",
      "source": [
        "ann_normalized = Sequential()\n",
        "\n",
        "ann_normalized.add(Dense(units=200, activation='relu', input_shape=(100,)))\n",
        "ann_normalized.add(Dense(units=300, activation='elu'))\n",
        "ann_normalized.add(Dense(units=150, activation='selu'))\n",
        "ann_normalized.add(Dense(units=100, activation='tanh'))\n",
        "ann_normalized.add(Dense(units=60, activation='elu'))\n",
        "ann_normalized.add(Dense(units=1, activation='sigmoid')) # binary classification\n",
        "\n",
        "ann_normalized.summary()"
      ],
      "metadata": {
        "colab": {
          "base_uri": "https://localhost:8080/"
        },
        "id": "aqugI2zty969",
        "outputId": "d3bfd311-ec32-48ab-d616-535a21f40a38"
      },
      "execution_count": null,
      "outputs": [
        {
          "output_type": "stream",
          "name": "stdout",
          "text": [
            "Model: \"sequential_1\"\n",
            "_________________________________________________________________\n",
            " Layer (type)                Output Shape              Param #   \n",
            "=================================================================\n",
            " dense_6 (Dense)             (None, 200)               20200     \n",
            "                                                                 \n",
            " dense_7 (Dense)             (None, 300)               60300     \n",
            "                                                                 \n",
            " dense_8 (Dense)             (None, 150)               45150     \n",
            "                                                                 \n",
            " dense_9 (Dense)             (None, 100)               15100     \n",
            "                                                                 \n",
            " dense_10 (Dense)            (None, 60)                6060      \n",
            "                                                                 \n",
            " dense_11 (Dense)            (None, 1)                 61        \n",
            "                                                                 \n",
            "=================================================================\n",
            "Total params: 146871 (573.71 KB)\n",
            "Trainable params: 146871 (573.71 KB)\n",
            "Non-trainable params: 0 (0.00 Byte)\n",
            "_________________________________________________________________\n"
          ]
        }
      ]
    },
    {
      "cell_type": "code",
      "source": [
        "from keras.callbacks import EarlyStopping, Callback\n",
        "\n",
        "class OverfitDetector(Callback):\n",
        "\n",
        "  def __init__(self, patience=0):\n",
        "    super(OverfitDetector, self).__init__()\n",
        "    self.patience = patience\n",
        "    self.wait = 0\n",
        "    self.best_train_loss = float('inf')\n",
        "    self.best_val_loss = float('inf')\n",
        "\n",
        "  def on_epoch_end(self, epoch, logs=None):\n",
        "    current_val_loss = logs.get('val_loss')\n",
        "    current_train_loss = logs.get('loss')\n",
        "\n",
        "    self.best_train_loss = min(self.best_train_loss, current_train_loss)\n",
        "\n",
        "    if current_val_loss < self.best_val_loss:\n",
        "      # validation loss gone down, improvement in model observed in this epoch\n",
        "      self.best_val_loss = current_val_loss\n",
        "      self.wait = 0\n",
        "    else:\n",
        "      # validation loss stayed same/gone higher\n",
        "      # possible overfitting\n",
        "      self.wait += 1\n",
        "      if self.wait >= self.patience:\n",
        "          print(f\"\\nEpoch {epoch + 1}: Overfitting detected! Stopping training.\")\n",
        "          self.model.stop_training = True\n",
        "\n",
        "ann_normalized.compile(optimizer='adam', loss='binary_crossentropy', metrics=['accuracy'])\n",
        "\n",
        "# es = EarlyStopping(monitor='val_loss', patience=10, verbose=1)\n",
        "es = EarlyStopping(monitor='val_accuracy', patience=10, verbose=1)\n",
        "overfit_ = OverfitDetector(patience=8)\n",
        "\n",
        "ann_normalized_history = ann_normalized.fit(X_train_padded_scaled, y_train, batch_size=32, epochs=100, validation_split=(0.2), callbacks=[es, overfit_])"
      ],
      "metadata": {
        "colab": {
          "base_uri": "https://localhost:8080/"
        },
        "collapsed": true,
        "id": "kHEse0e8y-Iv",
        "outputId": "f53d6979-4615-4e45-a574-8c353a1fa548"
      },
      "execution_count": null,
      "outputs": [
        {
          "output_type": "stream",
          "name": "stdout",
          "text": [
            "Epoch 1/100\n",
            "625/625 [==============================] - 5s 4ms/step - loss: 0.7029 - accuracy: 0.4983 - val_loss: 0.6975 - val_accuracy: 0.4966\n",
            "Epoch 2/100\n",
            "625/625 [==============================] - 3s 5ms/step - loss: 0.6938 - accuracy: 0.5191 - val_loss: 0.6962 - val_accuracy: 0.5086\n",
            "Epoch 3/100\n",
            "625/625 [==============================] - 4s 6ms/step - loss: 0.6890 - accuracy: 0.5437 - val_loss: 0.6928 - val_accuracy: 0.5238\n",
            "Epoch 4/100\n",
            "625/625 [==============================] - 5s 8ms/step - loss: 0.6854 - accuracy: 0.5533 - val_loss: 0.6991 - val_accuracy: 0.5128\n",
            "Epoch 5/100\n",
            "625/625 [==============================] - 4s 7ms/step - loss: 0.6803 - accuracy: 0.5613 - val_loss: 0.6953 - val_accuracy: 0.5216\n",
            "Epoch 6/100\n",
            "625/625 [==============================] - 4s 7ms/step - loss: 0.6694 - accuracy: 0.5870 - val_loss: 0.7032 - val_accuracy: 0.5264\n",
            "Epoch 7/100\n",
            "625/625 [==============================] - 3s 5ms/step - loss: 0.6536 - accuracy: 0.6072 - val_loss: 0.7272 - val_accuracy: 0.5158\n",
            "Epoch 8/100\n",
            "625/625 [==============================] - 2s 4ms/step - loss: 0.6367 - accuracy: 0.6259 - val_loss: 0.7426 - val_accuracy: 0.5218\n",
            "Epoch 9/100\n",
            "625/625 [==============================] - 2s 4ms/step - loss: 0.6201 - accuracy: 0.6440 - val_loss: 0.7449 - val_accuracy: 0.5176\n",
            "Epoch 10/100\n",
            "625/625 [==============================] - 2s 4ms/step - loss: 0.5993 - accuracy: 0.6660 - val_loss: 0.7733 - val_accuracy: 0.5154\n",
            "Epoch 11/100\n",
            "613/625 [============================>.] - ETA: 0s - loss: 0.5807 - accuracy: 0.6770\n",
            "Epoch 11: Overfitting detected! Stopping training.\n",
            "625/625 [==============================] - 2s 4ms/step - loss: 0.5812 - accuracy: 0.6765 - val_loss: 0.8020 - val_accuracy: 0.5128\n"
          ]
        }
      ]
    },
    {
      "cell_type": "code",
      "source": [
        "import matplotlib.pyplot as plt\n",
        "\n",
        "plt.plot(range(len(ann_normalized_history.history['loss'])), ann_normalized_history.history['loss'], label='training loss')\n",
        "plt.plot(range(len(ann_normalized_history.history['loss'])), ann_normalized_history.history['val_loss'], label='validation loss')\n",
        "plt.plot(range(len(ann_normalized_history.history['loss'])), ann_normalized_history.history['accuracy'], label='training accuracy')\n",
        "plt.plot(range(len(ann_normalized_history.history['loss'])), ann_normalized_history.history['val_accuracy'], label='validation accuracy')\n",
        "\n",
        "plt.legend()\n",
        "plt.show()"
      ],
      "metadata": {
        "colab": {
          "base_uri": "https://localhost:8080/",
          "height": 430
        },
        "id": "T1k_h-6-0rM1",
        "outputId": "ddf39f70-51b1-42cc-c358-47faf3a0f3f3"
      },
      "execution_count": null,
      "outputs": [
        {
          "output_type": "display_data",
          "data": {
            "text/plain": [
              "<Figure size 640x480 with 1 Axes>"
            ],
            "image/png": "[encoded data removed]"
          },
          "metadata": {}
        }
      ]
    },
    {
      "cell_type": "code",
      "source": [
        "import numpy as np\n",
        "\n",
        "y_pred = ann_normalized.predict(X_test_padded_scaled)\n",
        "y_pred = np.where(y_pred >= 0.5, 1, 0)\n",
        "y_pred[:10]\n",
        "\n",
        "from sklearn.metrics import accuracy_score\n",
        "\n",
        "print(f\"Accuracy for test set is {accuracy_score(y_test, y_pred)}\")"
      ],
      "metadata": {
        "colab": {
          "base_uri": "https://localhost:8080/"
        },
        "id": "ajPlXzKi0rkj",
        "outputId": "40112ce0-d7a2-4196-d062-3332354948ec"
      },
      "execution_count": null,
      "outputs": [
        {
          "output_type": "stream",
          "name": "stdout",
          "text": [
            "782/782 [==============================] - 2s 2ms/step\n",
            "Accuracy for test set is 0.51136\n"
          ]
        }
      ]
    },
    {
      "cell_type": "markdown",
      "source": [
        "# RNN (with padding)"
      ],
      "metadata": {
        "id": "33qSM3CfNL9E"
      }
    },
    {
      "cell_type": "code",
      "source": [
        "from keras.models import Sequential\n",
        "from keras.layers import SimpleRNN\n",
        "\n",
        "rnn = Sequential()\n",
        "rnn.add(SimpleRNN(units=80, input_shape=(100,1)))\n",
        "rnn.add(Dense(units=1, activation='sigmoid'))\n",
        "\n",
        "print(rnn.summary())"
      ],
      "metadata": {
        "colab": {
          "base_uri": "https://localhost:8080/"
        },
        "id": "O9hyj5-muG6C",
        "outputId": "e624dbc2-6ac9-4719-b829-c478741819fe"
      },
      "execution_count": null,
      "outputs": [
        {
          "output_type": "stream",
          "name": "stdout",
          "text": [
            "Model: \"sequential_2\"\n",
            "_________________________________________________________________\n",
            " Layer (type)                Output Shape              Param #   \n",
            "=================================================================\n",
            " simple_rnn (SimpleRNN)      (None, 80)                6560      \n",
            "                                                                 \n",
            " dense_12 (Dense)            (None, 1)                 81        \n",
            "                                                                 \n",
            "=================================================================\n",
            "Total params: 6641 (25.94 KB)\n",
            "Trainable params: 6641 (25.94 KB)\n",
            "Non-trainable params: 0 (0.00 Byte)\n",
            "_________________________________________________________________\n",
            "None\n"
          ]
        }
      ]
    },
    {
      "cell_type": "code",
      "source": [
        "from keras.callbacks import EarlyStopping, Callback\n",
        "\n",
        "class OverfitDetector(Callback):\n",
        "\n",
        "  def __init__(self, patience=0):\n",
        "    super(OverfitDetector, self).__init__()\n",
        "    self.patience = patience\n",
        "    self.wait = 0\n",
        "    self.best_train_loss = float('inf')\n",
        "    self.best_val_loss = float('inf')\n",
        "\n",
        "  def on_epoch_end(self, epoch, logs=None):\n",
        "    current_val_loss = logs.get('val_loss')\n",
        "    current_train_loss = logs.get('loss')\n",
        "\n",
        "    self.best_train_loss = min(self.best_train_loss, current_train_loss)\n",
        "\n",
        "    if current_val_loss < self.best_val_loss:\n",
        "      # validation loss gone down, improvement in model observed in this epoch\n",
        "      self.best_val_loss = current_val_loss\n",
        "      self.wait = 0\n",
        "    else:\n",
        "      # validation loss stayed same/gone higher\n",
        "      # possible overfitting\n",
        "      self.wait += 1\n",
        "      if self.wait >= self.patience:\n",
        "          print(f\"\\nEpoch {epoch + 1}: Overfitting detected! Stopping training.\")\n",
        "          self.model.stop_training = True\n",
        "\n",
        "# es = EarlyStopping(monitor='val_loss', patience=10, verbose=1)\n",
        "es = EarlyStopping(monitor='val_accuracy', patience=10, verbose=1)\n",
        "overfit_ = OverfitDetector(patience=8)"
      ],
      "metadata": {
        "id": "ced3KRt-fDR5"
      },
      "execution_count": null,
      "outputs": []
    },
    {
      "cell_type": "code",
      "source": [
        "rnn.compile(optimizer='adam', loss='binary_crossentropy', metrics=['accuracy'])\n",
        "rnn_history = rnn.fit(X_train_padded, y_train, epochs=100, batch_size=32, callbacks=[es, overfit_], validation_split=0.2)"
      ],
      "metadata": {
        "colab": {
          "base_uri": "https://localhost:8080/"
        },
        "id": "iyqciKYwfXDE",
        "outputId": "901d8b52-769e-4041-f278-46de1b0f0103"
      },
      "execution_count": null,
      "outputs": [
        {
          "output_type": "stream",
          "name": "stdout",
          "text": [
            "Epoch 1/100\n",
            "625/625 [==============================] - 18s 26ms/step - loss: 0.6980 - accuracy: 0.5038 - val_loss: 0.6938 - val_accuracy: 0.5086\n",
            "Epoch 2/100\n",
            "625/625 [==============================] - 17s 27ms/step - loss: 0.6951 - accuracy: 0.5039 - val_loss: 0.6934 - val_accuracy: 0.4978\n",
            "Epoch 3/100\n",
            "625/625 [==============================] - 15s 24ms/step - loss: 0.6957 - accuracy: 0.5051 - val_loss: 0.6924 - val_accuracy: 0.5184\n",
            "Epoch 4/100\n",
            "625/625 [==============================] - 17s 27ms/step - loss: 0.6951 - accuracy: 0.5109 - val_loss: 0.6946 - val_accuracy: 0.5172\n",
            "Epoch 5/100\n",
            "625/625 [==============================] - 15s 25ms/step - loss: 0.6948 - accuracy: 0.5099 - val_loss: 0.6933 - val_accuracy: 0.5154\n",
            "Epoch 6/100\n",
            "625/625 [==============================] - 17s 27ms/step - loss: 0.6939 - accuracy: 0.5106 - val_loss: 0.6926 - val_accuracy: 0.5068\n",
            "Epoch 7/100\n",
            "625/625 [==============================] - 17s 27ms/step - loss: 0.6947 - accuracy: 0.5066 - val_loss: 0.6915 - val_accuracy: 0.5222\n",
            "Epoch 8/100\n",
            "625/625 [==============================] - 17s 27ms/step - loss: 0.6938 - accuracy: 0.5042 - val_loss: 0.6920 - val_accuracy: 0.5216\n",
            "Epoch 9/100\n",
            "625/625 [==============================] - 17s 26ms/step - loss: 0.6939 - accuracy: 0.5109 - val_loss: 0.6974 - val_accuracy: 0.5026\n",
            "Epoch 10/100\n",
            "625/625 [==============================] - 17s 26ms/step - loss: 0.6938 - accuracy: 0.5065 - val_loss: 0.6945 - val_accuracy: 0.5072\n",
            "Epoch 11/100\n",
            "625/625 [==============================] - 15s 25ms/step - loss: 0.6935 - accuracy: 0.5167 - val_loss: 0.6961 - val_accuracy: 0.5072\n",
            "Epoch 12/100\n",
            "625/625 [==============================] - 16s 26ms/step - loss: 0.6938 - accuracy: 0.5037 - val_loss: 0.6930 - val_accuracy: 0.5064\n",
            "Epoch 13/100\n",
            "625/625 [==============================] - 15s 25ms/step - loss: 0.6936 - accuracy: 0.5123 - val_loss: 0.6930 - val_accuracy: 0.5046\n",
            "Epoch 14/100\n",
            "625/625 [==============================] - 15s 25ms/step - loss: 0.6939 - accuracy: 0.5080 - val_loss: 0.6925 - val_accuracy: 0.5010\n",
            "Epoch 15/100\n",
            "625/625 [==============================] - ETA: 0s - loss: 0.6942 - accuracy: 0.5045\n",
            "Epoch 15: Overfitting detected! Stopping training.\n",
            "625/625 [==============================] - 15s 25ms/step - loss: 0.6942 - accuracy: 0.5045 - val_loss: 0.6941 - val_accuracy: 0.5158\n"
          ]
        }
      ]
    },
    {
      "cell_type": "code",
      "source": [
        "import matplotlib.pyplot as plt\n",
        "\n",
        "plt.plot(range(len(rnn_history.history['loss'])), rnn_history.history['loss'], label='training loss')\n",
        "plt.plot(range(len(rnn_history.history['loss'])), rnn_history.history['val_loss'], label='validation loss')\n",
        "plt.plot(range(len(rnn_history.history['loss'])), rnn_history.history['accuracy'], label='training accuracy')\n",
        "plt.plot(range(len(rnn_history.history['loss'])), rnn_history.history['val_accuracy'], label='validation accuracy')\n",
        "\n",
        "plt.legend()\n",
        "plt.show()"
      ],
      "metadata": {
        "colab": {
          "base_uri": "https://localhost:8080/",
          "height": 430
        },
        "outputId": "2ad191b6-613e-40aa-c408-de970eff2912",
        "id": "w_LRUDFzh2Dk"
      },
      "execution_count": null,
      "outputs": [
        {
          "output_type": "display_data",
          "data": {
            "text/plain": [
              "<Figure size 640x480 with 1 Axes>"
            ],
            "image/png": "[encoded data removed]"
          },
          "metadata": {}
        }
      ]
    },
    {
      "cell_type": "code",
      "source": [
        "import numpy as np\n",
        "\n",
        "y_pred = rnn.predict(X_test_padded)\n",
        "y_pred = np.where(y_pred >= 0.5, 1, 0)\n",
        "\n",
        "from sklearn.metrics import accuracy_score\n",
        "\n",
        "print(f\"Accuracy for test set is {accuracy_score(y_test, y_pred)}\")"
      ],
      "metadata": {
        "colab": {
          "base_uri": "https://localhost:8080/"
        },
        "outputId": "3b5241d1-a0a7-4d2d-b150-f93133457b96",
        "id": "KOBmF7u0h2Dm"
      },
      "execution_count": null,
      "outputs": [
        {
          "output_type": "stream",
          "name": "stdout",
          "text": [
            "782/782 [==============================] - 11s 14ms/step\n",
            "Accuracy for test set is 0.51396\n"
          ]
        }
      ]
    },
    {
      "cell_type": "markdown",
      "source": [
        "# RNN (without padding)"
      ],
      "metadata": {
        "id": "nPgrDQiMOlOn"
      }
    },
    {
      "cell_type": "code",
      "source": [
        "from keras.preprocessing.sequence import pad_sequences\n",
        "from keras.models import Sequential\n",
        "from keras.layers import SimpleRNN, Dense, Masking\n",
        "\n",
        "import numpy as np\n",
        "\n",
        "x_train_max_pad = pad_sequences(X_train, padding='post', dtype='float32')\n",
        "\n",
        "rnn_varying_seq = Sequential()\n",
        "\n",
        "rnn_varying_seq.add(Masking(mask_value=0., input_shape=(None, 1)))\n",
        "rnn_varying_seq.add(SimpleRNN(units=64, activation='relu'))\n",
        "rnn_varying_seq.add(Dense(units=1, activation='sigmoid'))\n",
        "\n",
        "rnn_varying_seq.compile(optimizer='adam', loss='binary_crossentropy', metrics=['accuracy'])\n",
        "rnn_varying_seq.fit(x_train_max_pad[:, :, np.newaxis], y_train, epochs=5, batch_size=32, validation_split=0.2)"
      ],
      "metadata": {
        "colab": {
          "base_uri": "https://localhost:8080/"
        },
        "id": "ZIf79cn4XfJW",
        "outputId": "a5f45165-e3fc-40e9-e7d1-0cb8a873b869"
      },
      "execution_count": null,
      "outputs": [
        {
          "output_type": "stream",
          "name": "stdout",
          "text": [
            "Epoch 1/5\n",
            "625/625 [==============================] - 494s 785ms/step - loss: 32.4239 - accuracy: 0.5025 - val_loss: 16.0764 - val_accuracy: 0.4964\n",
            "Epoch 2/5\n",
            "625/625 [==============================] - 533s 853ms/step - loss: 11.7418 - accuracy: 0.4947 - val_loss: 12.6565 - val_accuracy: 0.5096\n",
            "Epoch 3/5\n",
            "625/625 [==============================] - 488s 780ms/step - loss: 9.7794 - accuracy: 0.5013 - val_loss: 7.1826 - val_accuracy: 0.5074\n",
            "Epoch 4/5\n",
            "625/625 [==============================] - 494s 791ms/step - loss: 9.7953 - accuracy: 0.5023 - val_loss: 6.6394 - val_accuracy: 0.4956\n",
            "Epoch 5/5\n",
            "625/625 [==============================] - 496s 794ms/step - loss: 6.4077 - accuracy: 0.4983 - val_loss: 9.7109 - val_accuracy: 0.5030\n"
          ]
        },
        {
          "output_type": "execute_result",
          "data": {
            "text/plain": [
              "<keras.src.callbacks.History at 0x7b720bfc4dc0>"
            ]
          },
          "metadata": {},
          "execution_count": 7
        }
      ]
    },
    {
      "cell_type": "code",
      "source": [
        "print(rnn_varying_seq.summary())"
      ],
      "metadata": {
        "colab": {
          "base_uri": "https://localhost:8080/"
        },
        "id": "WCdv71uFi6-Q",
        "outputId": "c66a9455-e45b-42f2-cf9e-1b19c82e9a78"
      },
      "execution_count": null,
      "outputs": [
        {
          "output_type": "stream",
          "name": "stdout",
          "text": [
            "Model: \"sequential\"\n",
            "_________________________________________________________________\n",
            " Layer (type)                Output Shape              Param #   \n",
            "=================================================================\n",
            " masking (Masking)           (None, None, 1)           0         \n",
            "                                                                 \n",
            " simple_rnn (SimpleRNN)      (None, 64)                4224      \n",
            "                                                                 \n",
            " dense (Dense)               (None, 1)                 65        \n",
            "                                                                 \n",
            "=================================================================\n",
            "Total params: 4289 (16.75 KB)\n",
            "Trainable params: 4289 (16.75 KB)\n",
            "Non-trainable params: 0 (0.00 Byte)\n",
            "_________________________________________________________________\n",
            "None\n"
          ]
        }
      ]
    },
    {
      "cell_type": "code",
      "source": [
        "print(x_train_max_pad.shape)"
      ],
      "metadata": {
        "colab": {
          "base_uri": "https://localhost:8080/"
        },
        "id": "AeJTMu1zjBhu",
        "outputId": "19aebf55-d3b3-412b-c284-5c9ed841434f"
      },
      "execution_count": null,
      "outputs": [
        {
          "output_type": "stream",
          "name": "stdout",
          "text": [
            "(25000, 2494)\n"
          ]
        }
      ]
    },
    {
      "cell_type": "markdown",
      "source": [
        "That's why such a longer training time."
      ],
      "metadata": {
        "id": "tTTxgPU6jGCQ"
      }
    },
    {
      "cell_type": "code",
      "source": [
        "import numpy as np\n",
        "\n",
        "X_test_padded_max_train_length = pad_sequences(X_test, padding='post', dtype='float32', maxlen=2494)\n",
        "y_pred = rnn_varying_seq.predict(X_test_padded_max_train_length)\n",
        "y_pred = np.where(y_pred >= 0.5, 1, 0)\n",
        "\n",
        "from sklearn.metrics import accuracy_score\n",
        "\n",
        "print(f\"Accuracy for test set is {accuracy_score(y_test, y_pred)}\")"
      ],
      "metadata": {
        "colab": {
          "base_uri": "https://localhost:8080/"
        },
        "id": "Fd52ih7Yib7t",
        "outputId": "375a61b9-d635-43b4-819c-0e75ed583873"
      },
      "execution_count": null,
      "outputs": [
        {
          "output_type": "stream",
          "name": "stdout",
          "text": [
            "782/782 [==============================] - 206s 263ms/step\n",
            "Accuracy for test set is 0.49704\n"
          ]
        }
      ]
    },
    {
      "cell_type": "markdown",
      "source": [
        "# Vector embedding\n",
        "- used to create dense vectors\n",
        "  - padding used for a shorter length(100 in the above 2 sections) leaves a lot of valuable information\n",
        "  - padding used w.r.t. the longest review makes the word vector sparse for a lot of other reviews (sparse means most of those feature values will be 0).\n",
        "  - dense vectors on the other hand mostly have non-zero feature value."
      ],
      "metadata": {
        "id": "oABVti5pNPSW"
      }
    },
    {
      "cell_type": "markdown",
      "source": [
        "## ANN"
      ],
      "metadata": {
        "id": "aLYTUiMPNUz5"
      }
    },
    {
      "cell_type": "code",
      "source": [
        "from keras.layers import Embedding, SimpleRNN, Dense, GlobalAveragePooling1D\n",
        "from keras.models import Sequential\n",
        "\n",
        "ann_embedding = Sequential()\n",
        "\n",
        "ann_embedding.add(Embedding(input_dim=10000, output_dim=2)) # input_dim = vocabulary size, output_dim = embed vector size\n",
        "\n",
        "# observe the output shape, its rank is 3, i.e. 3 elements in the output shape tuple\n",
        "# need to convert it into 2-ranked so that the further Dense layers can yield a 2-rank output\n",
        "# Reduce the rank of the output using GlobalAveragePooling1D\n",
        "ann_embedding.add(GlobalAveragePooling1D())\n",
        "\n",
        "ann_embedding.add(Dense(units=200, activation='relu'))\n",
        "ann_embedding.add(Dense(units=150, activation='selu'))\n",
        "ann_embedding.add(Dense(units=100, activation='tanh'))\n",
        "ann_embedding.add(Dense(units=60, activation='elu'))\n",
        "ann_embedding.add(Dense(units=1, activation='sigmoid')) # binary classification\n",
        "\n",
        "ann_embedding.summary()"
      ],
      "metadata": {
        "colab": {
          "base_uri": "https://localhost:8080/"
        },
        "outputId": "7add2405-5fbd-4c87-91b2-f4a746c417e5",
        "id": "8x-2dLucKl3q"
      },
      "execution_count": null,
      "outputs": [
        {
          "output_type": "stream",
          "name": "stdout",
          "text": [
            "Model: \"sequential_3\"\n",
            "_________________________________________________________________\n",
            " Layer (type)                Output Shape              Param #   \n",
            "=================================================================\n",
            " embedding (Embedding)       (None, None, 2)           20000     \n",
            "                                                                 \n",
            " global_average_pooling1d (  (None, 2)                 0         \n",
            " GlobalAveragePooling1D)                                         \n",
            "                                                                 \n",
            " dense_13 (Dense)            (None, 200)               600       \n",
            "                                                                 \n",
            " dense_14 (Dense)            (None, 150)               30150     \n",
            "                                                                 \n",
            " dense_15 (Dense)            (None, 100)               15100     \n",
            "                                                                 \n",
            " dense_16 (Dense)            (None, 60)                6060      \n",
            "                                                                 \n",
            " dense_17 (Dense)            (None, 1)                 61        \n",
            "                                                                 \n",
            "=================================================================\n",
            "Total params: 71971 (281.14 KB)\n",
            "Trainable params: 71971 (281.14 KB)\n",
            "Non-trainable params: 0 (0.00 Byte)\n",
            "_________________________________________________________________\n"
          ]
        }
      ]
    },
    {
      "cell_type": "code",
      "source": [
        "ann_embedding.layers[-1].output.shape"
      ],
      "metadata": {
        "colab": {
          "base_uri": "https://localhost:8080/"
        },
        "id": "ljXH84GoLRqe",
        "outputId": "ab8d99fb-d517-4550-c38a-3eba3fb105d4"
      },
      "execution_count": null,
      "outputs": [
        {
          "output_type": "execute_result",
          "data": {
            "text/plain": [
              "TensorShape([None, 1])"
            ]
          },
          "metadata": {},
          "execution_count": 24
        }
      ]
    },
    {
      "cell_type": "code",
      "source": [
        "from keras.callbacks import EarlyStopping, Callback\n",
        "\n",
        "class OverfitDetector(Callback):\n",
        "\n",
        "  def __init__(self, patience=0):\n",
        "    super(OverfitDetector, self).__init__()\n",
        "    self.patience = patience\n",
        "    self.wait = 0\n",
        "    self.best_train_loss = float('inf')\n",
        "    self.best_val_loss = float('inf')\n",
        "\n",
        "  def on_epoch_end(self, epoch, logs=None):\n",
        "    current_val_loss = logs.get('val_loss')\n",
        "    current_train_loss = logs.get('loss')\n",
        "\n",
        "    self.best_train_loss = min(self.best_train_loss, current_train_loss)\n",
        "\n",
        "    if current_val_loss < self.best_val_loss:\n",
        "      # validation loss gone down, improvement in model observed in this epoch\n",
        "      self.best_val_loss = current_val_loss\n",
        "      self.wait = 0\n",
        "    else:\n",
        "      # validation loss stayed same/gone higher\n",
        "      # possible overfitting\n",
        "      self.wait += 1\n",
        "      if self.wait >= self.patience:\n",
        "          print(f\"\\nEpoch {epoch + 1}: Overfitting detected! Stopping training.\")\n",
        "          self.model.stop_training = True\n",
        "\n",
        "# es = EarlyStopping(monitor='val_loss', patience=10, verbose=1)\n",
        "es = EarlyStopping(monitor='val_accuracy', patience=10, verbose=1)\n",
        "overfit_ = OverfitDetector(patience=8)"
      ],
      "metadata": {
        "id": "Bf7VYmA2Kl3s"
      },
      "execution_count": null,
      "outputs": []
    },
    {
      "cell_type": "code",
      "source": [
        "ann_embedding.compile(optimizer='adam', loss='binary_crossentropy', metrics=['accuracy'])\n",
        "\n",
        "import numpy as np\n",
        "ann_embedding_history = ann_embedding.fit(X_train_padded, y_train, epochs=100, batch_size=64, callbacks = [es, overfit_], validation_split=0.2)"
      ],
      "metadata": {
        "colab": {
          "base_uri": "https://localhost:8080/"
        },
        "outputId": "0323f687-f8ea-4182-be3a-33c2808ee325",
        "id": "GxhDjVudKl3t"
      },
      "execution_count": null,
      "outputs": [
        {
          "output_type": "stream",
          "name": "stdout",
          "text": [
            "Epoch 1/100\n",
            "313/313 [==============================] - 32s 97ms/step - loss: 0.4905 - accuracy: 0.7363 - val_loss: 0.3595 - val_accuracy: 0.8368\n",
            "Epoch 2/100\n",
            "313/313 [==============================] - 11s 34ms/step - loss: 0.2782 - accuracy: 0.8850 - val_loss: 0.3553 - val_accuracy: 0.8456\n",
            "Epoch 3/100\n",
            "313/313 [==============================] - 6s 18ms/step - loss: 0.2193 - accuracy: 0.9158 - val_loss: 0.3819 - val_accuracy: 0.8362\n",
            "Epoch 4/100\n",
            "313/313 [==============================] - 5s 17ms/step - loss: 0.1801 - accuracy: 0.9333 - val_loss: 0.4305 - val_accuracy: 0.8336\n",
            "Epoch 5/100\n",
            "313/313 [==============================] - 4s 14ms/step - loss: 0.1483 - accuracy: 0.9470 - val_loss: 0.4781 - val_accuracy: 0.8238\n",
            "Epoch 6/100\n",
            "313/313 [==============================] - 3s 11ms/step - loss: 0.1247 - accuracy: 0.9592 - val_loss: 0.5389 - val_accuracy: 0.8266\n",
            "Epoch 7/100\n",
            "313/313 [==============================] - 3s 8ms/step - loss: 0.1113 - accuracy: 0.9635 - val_loss: 0.5427 - val_accuracy: 0.8238\n",
            "Epoch 8/100\n",
            "313/313 [==============================] - 3s 8ms/step - loss: 0.0967 - accuracy: 0.9700 - val_loss: 0.6795 - val_accuracy: 0.8208\n",
            "Epoch 9/100\n",
            "313/313 [==============================] - 3s 9ms/step - loss: 0.0814 - accuracy: 0.9755 - val_loss: 0.6494 - val_accuracy: 0.8220\n",
            "Epoch 10/100\n",
            "313/313 [==============================] - ETA: 0s - loss: 0.0791 - accuracy: 0.9758\n",
            "Epoch 10: Overfitting detected! Stopping training.\n",
            "313/313 [==============================] - 2s 7ms/step - loss: 0.0791 - accuracy: 0.9758 - val_loss: 0.6293 - val_accuracy: 0.8148\n"
          ]
        }
      ]
    },
    {
      "cell_type": "code",
      "source": [
        "import matplotlib.pyplot as plt\n",
        "\n",
        "plt.plot(range(len(ann_embedding_history.history['loss'])), ann_embedding_history.history['loss'], label='training loss')\n",
        "plt.plot(range(len(ann_embedding_history.history['loss'])), ann_embedding_history.history['val_loss'], label='validation loss')\n",
        "plt.plot(range(len(ann_embedding_history.history['loss'])), ann_embedding_history.history['accuracy'], label='training accuracy')\n",
        "plt.plot(range(len(ann_embedding_history.history['loss'])), ann_embedding_history.history['val_accuracy'], label='validation accuracy')\n",
        "\n",
        "plt.legend()\n",
        "plt.show()"
      ],
      "metadata": {
        "colab": {
          "base_uri": "https://localhost:8080/",
          "height": 430
        },
        "outputId": "962f2921-84e0-469f-ed3c-915d06c66da0",
        "id": "BA-8H_P5Kl3u"
      },
      "execution_count": null,
      "outputs": [
        {
          "output_type": "display_data",
          "data": {
            "text/plain": [
              "<Figure size 640x480 with 1 Axes>"
            ],
            "image/png": "[encoded data removed]"
          },
          "metadata": {}
        }
      ]
    },
    {
      "cell_type": "code",
      "source": [
        "import numpy as np\n",
        "\n",
        "y_pred = ann_embedding.predict(X_test_padded)\n",
        "y_pred = np.where(y_pred >= 0.5, 1, 0)\n",
        "\n",
        "from sklearn.metrics import accuracy_score\n",
        "\n",
        "print(f\"Accuracy for test set is {accuracy_score(y_test, y_pred)}\")"
      ],
      "metadata": {
        "colab": {
          "base_uri": "https://localhost:8080/"
        },
        "outputId": "f31b04bc-40e1-4a37-e025-1494978952c2",
        "id": "DXTwujLSKl3u"
      },
      "execution_count": null,
      "outputs": [
        {
          "output_type": "stream",
          "name": "stdout",
          "text": [
            "782/782 [==============================] - 1s 2ms/step\n",
            "Accuracy for test set is 0.81272\n"
          ]
        }
      ]
    },
    {
      "cell_type": "markdown",
      "source": [
        "## RNN"
      ],
      "metadata": {
        "id": "wh71SgknNV5B"
      }
    },
    {
      "cell_type": "code",
      "source": [
        "from keras.layers import Embedding, SimpleRNN, Dense\n",
        "from keras.models import Sequential\n",
        "\n",
        "rnn_embedding = Sequential()\n",
        "rnn_embedding.add(Embedding(input_dim=10000, output_dim=3)) # input_dim = vocabulary size, output_dim = embed vector size\n",
        "rnn_embedding.add(SimpleRNN(units=30))\n",
        "rnn_embedding.add(Dense(1, activation='sigmoid'))\n",
        "\n",
        "rnn_embedding.summary()"
      ],
      "metadata": {
        "colab": {
          "base_uri": "https://localhost:8080/"
        },
        "id": "TrmsJtEpEPjF",
        "outputId": "268c8cfe-4f03-4ca9-ec50-e64ed6acba73"
      },
      "execution_count": null,
      "outputs": [
        {
          "output_type": "stream",
          "name": "stdout",
          "text": [
            "Model: \"sequential_4\"\n",
            "_________________________________________________________________\n",
            " Layer (type)                Output Shape              Param #   \n",
            "=================================================================\n",
            " embedding_1 (Embedding)     (None, None, 3)           30000     \n",
            "                                                                 \n",
            " simple_rnn_1 (SimpleRNN)    (None, 30)                1020      \n",
            "                                                                 \n",
            " dense_18 (Dense)            (None, 1)                 31        \n",
            "                                                                 \n",
            "=================================================================\n",
            "Total params: 31051 (121.29 KB)\n",
            "Trainable params: 31051 (121.29 KB)\n",
            "Non-trainable params: 0 (0.00 Byte)\n",
            "_________________________________________________________________\n"
          ]
        }
      ]
    },
    {
      "cell_type": "code",
      "source": [
        "rnn_embedding.layers[-1].output.shape"
      ],
      "metadata": {
        "colab": {
          "base_uri": "https://localhost:8080/"
        },
        "id": "HuXO44u7Lob0",
        "outputId": "16c03d17-3edc-4a8c-ed75-cd734942ebb4"
      },
      "execution_count": null,
      "outputs": [
        {
          "output_type": "execute_result",
          "data": {
            "text/plain": [
              "TensorShape([None, 1])"
            ]
          },
          "metadata": {},
          "execution_count": 30
        }
      ]
    },
    {
      "cell_type": "code",
      "source": [
        "from keras.callbacks import EarlyStopping, Callback\n",
        "\n",
        "class OverfitDetector(Callback):\n",
        "\n",
        "  def __init__(self, patience=0):\n",
        "    super(OverfitDetector, self).__init__()\n",
        "    self.patience = patience\n",
        "    self.wait = 0\n",
        "    self.best_train_loss = float('inf')\n",
        "    self.best_val_loss = float('inf')\n",
        "\n",
        "  def on_epoch_end(self, epoch, logs=None):\n",
        "    current_val_loss = logs.get('val_loss')\n",
        "    current_train_loss = logs.get('loss')\n",
        "\n",
        "    self.best_train_loss = min(self.best_train_loss, current_train_loss)\n",
        "\n",
        "    if current_val_loss < self.best_val_loss:\n",
        "      # validation loss gone down, improvement in model observed in this epoch\n",
        "      self.best_val_loss = current_val_loss\n",
        "      self.wait = 0\n",
        "    else:\n",
        "      # validation loss stayed same/gone higher\n",
        "      # possible overfitting\n",
        "      self.wait += 1\n",
        "      if self.wait >= self.patience:\n",
        "          print(f\"\\nEpoch {epoch + 1}: Overfitting detected! Stopping training.\")\n",
        "          self.model.stop_training = True\n",
        "\n",
        "# es = EarlyStopping(monitor='val_loss', patience=10, verbose=1)\n",
        "es = EarlyStopping(monitor='val_accuracy', patience=10, verbose=1)\n",
        "overfit_ = OverfitDetector(patience=8)"
      ],
      "metadata": {
        "id": "ovtiGt50GtDE"
      },
      "execution_count": null,
      "outputs": []
    },
    {
      "cell_type": "code",
      "source": [
        "rnn_embedding.compile(optimizer='adam', loss='binary_crossentropy', metrics=['accuracy'])\n",
        "\n",
        "rnn_embedding_history = rnn_embedding.fit(X_train_padded, y_train, epochs=100, batch_size=64, callbacks = [es, overfit_], validation_split=0.2)"
      ],
      "metadata": {
        "colab": {
          "base_uri": "https://localhost:8080/"
        },
        "id": "Oci1TiQ3GVTy",
        "outputId": "d0e1c685-abd5-4ed6-ba1a-05b42e7f7bc1"
      },
      "execution_count": null,
      "outputs": [
        {
          "output_type": "stream",
          "name": "stdout",
          "text": [
            "Epoch 1/100\n",
            "313/313 [==============================] - 58s 181ms/step - loss: 0.6907 - accuracy: 0.5312 - val_loss: 0.6845 - val_accuracy: 0.5576\n",
            "Epoch 2/100\n",
            "313/313 [==============================] - 37s 118ms/step - loss: 0.5983 - accuracy: 0.6745 - val_loss: 0.4702 - val_accuracy: 0.7908\n",
            "Epoch 3/100\n",
            "313/313 [==============================] - 32s 103ms/step - loss: 0.3903 - accuracy: 0.8342 - val_loss: 0.4297 - val_accuracy: 0.8164\n",
            "Epoch 4/100\n",
            "313/313 [==============================] - 32s 102ms/step - loss: 0.2876 - accuracy: 0.8868 - val_loss: 0.4394 - val_accuracy: 0.8290\n",
            "Epoch 5/100\n",
            "313/313 [==============================] - 30s 95ms/step - loss: 0.2208 - accuracy: 0.9193 - val_loss: 0.4668 - val_accuracy: 0.8282\n",
            "Epoch 6/100\n",
            "313/313 [==============================] - 30s 97ms/step - loss: 0.1771 - accuracy: 0.9378 - val_loss: 0.4629 - val_accuracy: 0.8288\n",
            "Epoch 7/100\n",
            "313/313 [==============================] - 28s 90ms/step - loss: 0.1389 - accuracy: 0.9538 - val_loss: 0.5504 - val_accuracy: 0.8190\n",
            "Epoch 8/100\n",
            "313/313 [==============================] - 29s 92ms/step - loss: 0.1199 - accuracy: 0.9621 - val_loss: 0.6107 - val_accuracy: 0.8208\n",
            "Epoch 9/100\n",
            "313/313 [==============================] - 29s 92ms/step - loss: 0.0991 - accuracy: 0.9698 - val_loss: 0.6431 - val_accuracy: 0.8138\n",
            "Epoch 10/100\n",
            "313/313 [==============================] - 29s 94ms/step - loss: 0.0807 - accuracy: 0.9771 - val_loss: 0.6966 - val_accuracy: 0.8128\n",
            "Epoch 11/100\n",
            "313/313 [==============================] - ETA: 0s - loss: 0.0677 - accuracy: 0.9816\n",
            "Epoch 11: Overfitting detected! Stopping training.\n",
            "313/313 [==============================] - 28s 91ms/step - loss: 0.0677 - accuracy: 0.9816 - val_loss: 0.7039 - val_accuracy: 0.8092\n"
          ]
        }
      ]
    },
    {
      "cell_type": "code",
      "source": [
        "import matplotlib.pyplot as plt\n",
        "\n",
        "plt.plot(range(len(rnn_embedding_history.history['loss'])), rnn_embedding_history.history['loss'], label='training loss')\n",
        "plt.plot(range(len(rnn_embedding_history.history['loss'])), rnn_embedding_history.history['val_loss'], label='validation loss')\n",
        "plt.plot(range(len(rnn_embedding_history.history['loss'])), rnn_embedding_history.history['accuracy'], label='training accuracy')\n",
        "plt.plot(range(len(rnn_embedding_history.history['loss'])), rnn_embedding_history.history['val_accuracy'], label='validation accuracy')\n",
        "\n",
        "plt.legend()\n",
        "plt.show()"
      ],
      "metadata": {
        "colab": {
          "base_uri": "https://localhost:8080/",
          "height": 430
        },
        "outputId": "9f8dffb3-8b27-4274-de2a-8769076098bd",
        "id": "otzEnKDxH7vQ"
      },
      "execution_count": null,
      "outputs": [
        {
          "output_type": "display_data",
          "data": {
            "text/plain": [
              "<Figure size 640x480 with 1 Axes>"
            ],
            "image/png": "[encoded data removed]"
          },
          "metadata": {}
        }
      ]
    },
    {
      "cell_type": "code",
      "source": [
        "import numpy as np\n",
        "\n",
        "y_pred = rnn_embedding.predict(X_test_padded)\n",
        "y_pred = np.where(y_pred >= 0.5, 1, 0)\n",
        "\n",
        "from sklearn.metrics import accuracy_score\n",
        "\n",
        "print(f\"Accuracy for test set is {accuracy_score(y_test, y_pred)}\")"
      ],
      "metadata": {
        "colab": {
          "base_uri": "https://localhost:8080/"
        },
        "outputId": "df52303e-31bd-42af-b714-8d5a0c335313",
        "id": "Fu7eiY7NH7vT"
      },
      "execution_count": null,
      "outputs": [
        {
          "output_type": "stream",
          "name": "stdout",
          "text": [
            "782/782 [==============================] - 7s 8ms/step\n",
            "Accuracy for test set is 0.80732\n"
          ]
        }
      ]
    },
    {
      "cell_type": "markdown",
      "source": [
        "# Compare performances\n",
        "- of all 4 types of networks\n",
        "  - ANN with integer encoding\n",
        "  - RNN with integer encoding\n",
        "  - ANN with vector embeddings\n",
        "  - RNN with vector embeddings"
      ],
      "metadata": {
        "id": "Vup8YECtNXOX"
      }
    },
    {
      "cell_type": "code",
      "source": [
        "import pandas as pd\n",
        "import numpy as np\n",
        "\n",
        "y_pred_ann = ann.predict(X_test_padded)\n",
        "y_pred_ann = np.where(y_pred_ann >= 0.5, 1, 0)\n",
        "\n",
        "y_pred_rnn = rnn.predict(X_test_padded)\n",
        "y_pred_rnn = np.where(y_pred_rnn >= 0.5, 1, 0)\n",
        "\n",
        "y_pred_ann_embedding = ann_embedding.predict(X_test_padded)\n",
        "y_pred_ann_embedding = np.where(y_pred_ann_embedding >= 0.5, 1, 0)\n",
        "\n",
        "y_pred_rnn_embedding = rnn_embedding.predict(X_test_padded)\n",
        "y_pred_rnn_embedding = np.where(y_pred_rnn_embedding >= 0.5, 1, 0)\n",
        "\n",
        "from sklearn.metrics import accuracy_score\n",
        "\n",
        "accuracy_df = pd.DataFrame({\n",
        "    'Model Name': ['ANN', 'RNN', 'ANN with embeddings', 'RNN with embeddings'],\n",
        "    'Accuracy Scores': [accuracy_score(y_test, y_pred_ann), accuracy_score(y_test, y_pred_rnn), accuracy_score(y_test, y_pred_ann_embedding), accuracy_score(y_test, y_pred_rnn_embedding)]\n",
        "})\n",
        "\n",
        "display(accuracy_df)"
      ],
      "metadata": {
        "id": "l-9W2lRhNgsZ",
        "colab": {
          "base_uri": "https://localhost:8080/",
          "height": 241
        },
        "outputId": "82912648-0528-4237-de5c-487011f5830b"
      },
      "execution_count": null,
      "outputs": [
        {
          "output_type": "stream",
          "name": "stdout",
          "text": [
            "782/782 [==============================] - 1s 2ms/step\n",
            "782/782 [==============================] - 8s 11ms/step\n",
            "782/782 [==============================] - 1s 2ms/step\n",
            "782/782 [==============================] - 8s 10ms/step\n"
          ]
        },
        {
          "output_type": "display_data",
          "data": {
            "text/plain": [
              "            Model Name  Accuracy Scores\n",
              "0                  ANN          0.50000\n",
              "1                  RNN          0.51396\n",
              "2  ANN with embeddings          0.81272\n",
              "3  RNN with embeddings          0.80732"
            ],
            "text/html": [
              "\n",
              "  <div id=\"df-9d3874ee-0eff-40a8-84c2-9f4af8fb632d\" class=\"colab-df-container\">\n",
              "    <div>\n",
              "<style scoped>\n",
              "    .dataframe tbody tr th:only-of-type {\n",
              "        vertical-align: middle;\n",
              "    }\n",
              "\n",
              "    .dataframe tbody tr th {\n",
              "        vertical-align: top;\n",
              "    }\n",
              "\n",
              "    .dataframe thead th {\n",
              "        text-align: right;\n",
              "    }\n",
              "</style>\n",
              "<table border=\"1\" class=\"dataframe\">\n",
              "  <thead>\n",
              "    <tr style=\"text-align: right;\">\n",
              "      <th></th>\n",
              "      <th>Model Name</th>\n",
              "      <th>Accuracy Scores</th>\n",
              "    </tr>\n",
              "  </thead>\n",
              "  <tbody>\n",
              "    <tr>\n",
              "      <th>0</th>\n",
              "      <td>ANN</td>\n",
              "      <td>0.50000</td>\n",
              "    </tr>\n",
              "    <tr>\n",
              "      <th>1</th>\n",
              "      <td>RNN</td>\n",
              "      <td>0.51396</td>\n",
              "    </tr>\n",
              "    <tr>\n",
              "      <th>2</th>\n",
              "      <td>ANN with embeddings</td>\n",
              "      <td>0.81272</td>\n",
              "    </tr>\n",
              "    <tr>\n",
              "      <th>3</th>\n",
              "      <td>RNN with embeddings</td>\n",
              "      <td>0.80732</td>\n",
              "    </tr>\n",
              "  </tbody>\n",
              "</table>\n",
              "</div>\n",
              "    <div class=\"colab-df-buttons\">\n",
              "\n",
              "  <div class=\"colab-df-container\">\n",
              "    <button class=\"colab-df-convert\" onclick=\"convertToInteractive('df-9d3874ee-0eff-40a8-84c2-9f4af8fb632d')\"\n",
              "            title=\"Convert this dataframe to an interactive table.\"\n",
              "            style=\"display:none;\">\n",
              "\n",
              "  <svg xmlns=\"http://www.w3.org/2000/svg\" height=\"24px\" viewBox=\"0 -960 960 960\">\n",
              "    <path d=\"M120-120v-720h720v720H120Zm60-500h600v-160H180v160Zm220 220h160v-160H400v160Zm0 220h160v-160H400v160ZM180-400h160v-160H180v160Zm440 0h160v-160H620v160ZM180-180h160v-160H180v160Zm440 0h160v-160H620v160Z\"/>\n",
              "  </svg>\n",
              "    </button>\n",
              "\n",
              "  <style>\n",
              "    .colab-df-container {\n",
              "      display:flex;\n",
              "      gap: 12px;\n",
              "    }\n",
              "\n",
              "    .colab-df-convert {\n",
              "      background-color: #E8F0FE;\n",
              "      border: none;\n",
              "      border-radius: 50%;\n",
              "      cursor: pointer;\n",
              "      display: none;\n",
              "      fill: #1967D2;\n",
              "      height: 32px;\n",
              "      padding: 0 0 0 0;\n",
              "      width: 32px;\n",
              "    }\n",
              "\n",
              "    .colab-df-convert:hover {\n",
              "      background-color: #E2EBFA;\n",
              "      box-shadow: 0px 1px 2px rgba(60, 64, 67, 0.3), 0px 1px 3px 1px rgba(60, 64, 67, 0.15);\n",
              "      fill: #174EA6;\n",
              "    }\n",
              "\n",
              "    .colab-df-buttons div {\n",
              "      margin-bottom: 4px;\n",
              "    }\n",
              "\n",
              "    [theme=dark] .colab-df-convert {\n",
              "      background-color: #3B4455;\n",
              "      fill: #D2E3FC;\n",
              "    }\n",
              "\n",
              "    [theme=dark] .colab-df-convert:hover {\n",
              "      background-color: #434B5C;\n",
              "      box-shadow: 0px 1px 3px 1px rgba(0, 0, 0, 0.15);\n",
              "      filter: drop-shadow(0px 1px 2px rgba(0, 0, 0, 0.3));\n",
              "      fill: #FFFFFF;\n",
              "    }\n",
              "  </style>\n",
              "\n",
              "    <script>\n",
              "      const buttonEl =\n",
              "        document.querySelector('#df-9d3874ee-0eff-40a8-84c2-9f4af8fb632d button.colab-df-convert');\n",
              "      buttonEl.style.display =\n",
              "        google.colab.kernel.accessAllowed ? 'block' : 'none';\n",
              "\n",
              "      async function convertToInteractive(key) {\n",
              "        const element = document.querySelector('#df-9d3874ee-0eff-40a8-84c2-9f4af8fb632d');\n",
              "        const dataTable =\n",
              "          await google.colab.kernel.invokeFunction('convertToInteractive',\n",
              "                                                    [key], {});\n",
              "        if (!dataTable) return;\n",
              "\n",
              "        const docLinkHtml = 'Like what you see? Visit the ' +\n",
              "          '<a target=\"_blank\" href=https://colab.research.google.com/notebooks/data_table.ipynb>data table notebook</a>'\n",
              "          + ' to learn more about interactive tables.';\n",
              "        element.innerHTML = '';\n",
              "        dataTable['output_type'] = 'display_data';\n",
              "        await google.colab.output.renderOutput(dataTable, element);\n",
              "        const docLink = document.createElement('div');\n",
              "        docLink.innerHTML = docLinkHtml;\n",
              "        element.appendChild(docLink);\n",
              "      }\n",
              "    </script>\n",
              "  </div>\n",
              "\n",
              "\n",
              "<div id=\"df-b54b674c-0f45-4a8a-98c3-cd0cfb81be09\">\n",
              "  <button class=\"colab-df-quickchart\" onclick=\"quickchart('df-b54b674c-0f45-4a8a-98c3-cd0cfb81be09')\"\n",
              "            title=\"Suggest charts\"\n",
              "            style=\"display:none;\">\n",
              "\n",
              "<svg xmlns=\"http://www.w3.org/2000/svg\" height=\"24px\"viewBox=\"0 0 24 24\"\n",
              "     width=\"24px\">\n",
              "    <g>\n",
              "        <path d=\"M19 3H5c-1.1 0-2 .9-2 2v14c0 1.1.9 2 2 2h14c1.1 0 2-.9 2-2V5c0-1.1-.9-2-2-2zM9 17H7v-7h2v7zm4 0h-2V7h2v10zm4 0h-2v-4h2v4z\"/>\n",
              "    </g>\n",
              "</svg>\n",
              "  </button>\n",
              "\n",
              "<style>\n",
              "  .colab-df-quickchart {\n",
              "      --bg-color: #E8F0FE;\n",
              "      --fill-color: #1967D2;\n",
              "      --hover-bg-color: #E2EBFA;\n",
              "      --hover-fill-color: #174EA6;\n",
              "      --disabled-fill-color: #AAA;\n",
              "      --disabled-bg-color: #DDD;\n",
              "  }\n",
              "\n",
              "  [theme=dark] .colab-df-quickchart {\n",
              "      --bg-color: #3B4455;\n",
              "      --fill-color: #D2E3FC;\n",
              "      --hover-bg-color: #434B5C;\n",
              "      --hover-fill-color: #FFFFFF;\n",
              "      --disabled-bg-color: #3B4455;\n",
              "      --disabled-fill-color: #666;\n",
              "  }\n",
              "\n",
              "  .colab-df-quickchart {\n",
              "    background-color: var(--bg-color);\n",
              "    border: none;\n",
              "    border-radius: 50%;\n",
              "    cursor: pointer;\n",
              "    display: none;\n",
              "    fill: var(--fill-color);\n",
              "    height: 32px;\n",
              "    padding: 0;\n",
              "    width: 32px;\n",
              "  }\n",
              "\n",
              "  .colab-df-quickchart:hover {\n",
              "    background-color: var(--hover-bg-color);\n",
              "    box-shadow: 0 1px 2px rgba(60, 64, 67, 0.3), 0 1px 3px 1px rgba(60, 64, 67, 0.15);\n",
              "    fill: var(--button-hover-fill-color);\n",
              "  }\n",
              "\n",
              "  .colab-df-quickchart-complete:disabled,\n",
              "  .colab-df-quickchart-complete:disabled:hover {\n",
              "    background-color: var(--disabled-bg-color);\n",
              "    fill: var(--disabled-fill-color);\n",
              "    box-shadow: none;\n",
              "  }\n",
              "\n",
              "  .colab-df-spinner {\n",
              "    border: 2px solid var(--fill-color);\n",
              "    border-color: transparent;\n",
              "    border-bottom-color: var(--fill-color);\n",
              "    animation:\n",
              "      spin 1s steps(1) infinite;\n",
              "  }\n",
              "\n",
              "  @keyframes spin {\n",
              "    0% {\n",
              "      border-color: transparent;\n",
              "      border-bottom-color: var(--fill-color);\n",
              "      border-left-color: var(--fill-color);\n",
              "    }\n",
              "    20% {\n",
              "      border-color: transparent;\n",
              "      border-left-color: var(--fill-color);\n",
              "      border-top-color: var(--fill-color);\n",
              "    }\n",
              "    30% {\n",
              "      border-color: transparent;\n",
              "      border-left-color: var(--fill-color);\n",
              "      border-top-color: var(--fill-color);\n",
              "      border-right-color: var(--fill-color);\n",
              "    }\n",
              "    40% {\n",
              "      border-color: transparent;\n",
              "      border-right-color: var(--fill-color);\n",
              "      border-top-color: var(--fill-color);\n",
              "    }\n",
              "    60% {\n",
              "      border-color: transparent;\n",
              "      border-right-color: var(--fill-color);\n",
              "    }\n",
              "    80% {\n",
              "      border-color: transparent;\n",
              "      border-right-color: var(--fill-color);\n",
              "      border-bottom-color: var(--fill-color);\n",
              "    }\n",
              "    90% {\n",
              "      border-color: transparent;\n",
              "      border-bottom-color: var(--fill-color);\n",
              "    }\n",
              "  }\n",
              "</style>\n",
              "\n",
              "  <script>\n",
              "    async function quickchart(key) {\n",
              "      const quickchartButtonEl =\n",
              "        document.querySelector('#' + key + ' button');\n",
              "      quickchartButtonEl.disabled = true;  // To prevent multiple clicks.\n",
              "      quickchartButtonEl.classList.add('colab-df-spinner');\n",
              "      try {\n",
              "        const charts = await google.colab.kernel.invokeFunction(\n",
              "            'suggestCharts', [key], {});\n",
              "      } catch (error) {\n",
              "        console.error('Error during call to suggestCharts:', error);\n",
              "      }\n",
              "      quickchartButtonEl.classList.remove('colab-df-spinner');\n",
              "      quickchartButtonEl.classList.add('colab-df-quickchart-complete');\n",
              "    }\n",
              "    (() => {\n",
              "      let quickchartButtonEl =\n",
              "        document.querySelector('#df-b54b674c-0f45-4a8a-98c3-cd0cfb81be09 button');\n",
              "      quickchartButtonEl.style.display =\n",
              "        google.colab.kernel.accessAllowed ? 'block' : 'none';\n",
              "    })();\n",
              "  </script>\n",
              "</div>\n",
              "\n",
              "  <div id=\"id_a991e827-343a-4f72-9adc-ea4126cf0e72\">\n",
              "    <style>\n",
              "      .colab-df-generate {\n",
              "        background-color: #E8F0FE;\n",
              "        border: none;\n",
              "        border-radius: 50%;\n",
              "        cursor: pointer;\n",
              "        display: none;\n",
              "        fill: #1967D2;\n",
              "        height: 32px;\n",
              "        padding: 0 0 0 0;\n",
              "        width: 32px;\n",
              "      }\n",
              "\n",
              "      .colab-df-generate:hover {\n",
              "        background-color: #E2EBFA;\n",
              "        box-shadow: 0px 1px 2px rgba(60, 64, 67, 0.3), 0px 1px 3px 1px rgba(60, 64, 67, 0.15);\n",
              "        fill: #174EA6;\n",
              "      }\n",
              "\n",
              "      [theme=dark] .colab-df-generate {\n",
              "        background-color: #3B4455;\n",
              "        fill: #D2E3FC;\n",
              "      }\n",
              "\n",
              "      [theme=dark] .colab-df-generate:hover {\n",
              "        background-color: #434B5C;\n",
              "        box-shadow: 0px 1px 3px 1px rgba(0, 0, 0, 0.15);\n",
              "        filter: drop-shadow(0px 1px 2px rgba(0, 0, 0, 0.3));\n",
              "        fill: #FFFFFF;\n",
              "      }\n",
              "    </style>\n",
              "    <button class=\"colab-df-generate\" onclick=\"generateWithVariable('accuracy_df')\"\n",
              "            title=\"Generate code using this dataframe.\"\n",
              "            style=\"display:none;\">\n",
              "\n",
              "  <svg xmlns=\"http://www.w3.org/2000/svg\" height=\"24px\"viewBox=\"0 0 24 24\"\n",
              "       width=\"24px\">\n",
              "    <path d=\"M7,19H8.4L18.45,9,17,7.55,7,17.6ZM5,21V16.75L18.45,3.32a2,2,0,0,1,2.83,0l1.4,1.43a1.91,1.91,0,0,1,.58,1.4,1.91,1.91,0,0,1-.58,1.4L9.25,21ZM18.45,9,17,7.55Zm-12,3A5.31,5.31,0,0,0,4.9,8.1,5.31,5.31,0,0,0,1,6.5,5.31,5.31,0,0,0,4.9,4.9,5.31,5.31,0,0,0,6.5,1,5.31,5.31,0,0,0,8.1,4.9,5.31,5.31,0,0,0,12,6.5,5.46,5.46,0,0,0,6.5,12Z\"/>\n",
              "  </svg>\n",
              "    </button>\n",
              "    <script>\n",
              "      (() => {\n",
              "      const buttonEl =\n",
              "        document.querySelector('#id_a991e827-343a-4f72-9adc-ea4126cf0e72 button.colab-df-generate');\n",
              "      buttonEl.style.display =\n",
              "        google.colab.kernel.accessAllowed ? 'block' : 'none';\n",
              "\n",
              "      buttonEl.onclick = () => {\n",
              "        google.colab.notebook.generateWithVariable('accuracy_df');\n",
              "      }\n",
              "      })();\n",
              "    </script>\n",
              "  </div>\n",
              "\n",
              "    </div>\n",
              "  </div>\n"
            ]
          },
          "metadata": {}
        }
      ]
    },
    {
      "cell_type": "markdown",
      "source": [
        "# Inferences and Conclusion\n",
        "- **RNN also (just like ANNs) really can't handle varying input sequences.**\n",
        "  - we end up padding the training data to `max_length_in_train`, which turns out to be a lot, thus making the encoded vector sparse in nature.\n",
        "  - additionally, if a test sequence having length greater than `max_length_in_train` is given to the model, we would've to modify the predict method s.t. it predicts this longer test sequence in segments, wherein output of i'th segment is sent to the SimpleRNN layer for computing the (i+1)'th segment, till all segments exhaust.\n",
        "  - hence, its **more convenient** to just **pad both train and test sequences at a constant fixed length**.\n",
        "- **Embedding layer improves the performance substantially**\n",
        "- **Vector embeddings improves performance regardless of the model being an ANN or an RNN**\n",
        "- **RNN** is **better than ANN** only due to very fewer params to gain the same accuracy/loss , hence the lesser computations/training time."
      ],
      "metadata": {
        "id": "zRfWaMNvjLBs"
      }
    }
  ]
}