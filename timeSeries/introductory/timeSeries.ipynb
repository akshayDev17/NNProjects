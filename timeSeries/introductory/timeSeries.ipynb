{
 "cells": [
  {
   "cell_type": "markdown",
   "metadata": {
    "id": "aaFA481_o9IT"
   },
   "source": [
    "# Data collection\n",
    "\n",
    "1. [Tiingo](https://pandas-datareader.readthedocs.io/en/latest/remote_data.html#remote-data-tiingo) was used for the same\n",
    "  1. sign-up, visit <API> section in the dashboard on left, click to *take me to Documentation*\n",
    "\n",
    "  2. in the authentication section of the resultant page will be present your api key associated to your account\n",
    "\n",
    "2. \n"
   ]
  },
  {
   "cell_type": "code",
   "execution_count": 1,
   "metadata": {
    "id": "ywdGaKtIoxN5"
   },
   "outputs": [],
   "source": [
    "import pandas_datareader as pdr"
   ]
  },
  {
   "cell_type": "markdown",
   "metadata": {
    "id": "qj9eG7NqqB9p"
   },
   "source": [
    "1. 'AAPL' corresponds to apple-stocks timeseries data"
   ]
  },
  {
   "cell_type": "code",
   "execution_count": 2,
   "metadata": {
    "colab": {
     "base_uri": "https://localhost:8080/"
    },
    "id": "qPWPnXWJpflq",
    "outputId": "a404b302-0769-4485-f795-329662d561e4"
   },
   "outputs": [
    {
     "name": "stdout",
     "output_type": "stream",
     "text": [
      "<class 'pandas.core.frame.DataFrame'>\n"
     ]
    }
   ],
   "source": [
    "import os\n",
    "from dotenv import load_dotenv\n",
    "load_dotenv()\n",
    "\n",
    "key = os.getenv(\"API_KEY\")\n",
    "df = pdr.get_data_tiingo('AAPL', api_key=key)\n",
    "print(type(df))\n",
    "df.to_csv(\"AAPL.csv\")"
   ]
  },
  {
   "cell_type": "code",
   "execution_count": 3,
   "metadata": {
    "colab": {
     "base_uri": "https://localhost:8080/",
     "height": 701
    },
    "id": "XTeCnUnipzkJ",
    "outputId": "cfaeda78-6030-442d-bd4c-4083f8ad4e23"
   },
   "outputs": [
    {
     "data": {
      "text/html": [
       "<div>\n",
       "<style scoped>\n",
       "    .dataframe tbody tr th:only-of-type {\n",
       "        vertical-align: middle;\n",
       "    }\n",
       "\n",
       "    .dataframe tbody tr th {\n",
       "        vertical-align: top;\n",
       "    }\n",
       "\n",
       "    .dataframe thead th {\n",
       "        text-align: right;\n",
       "    }\n",
       "</style>\n",
       "<table border=\"1\" class=\"dataframe\">\n",
       "  <thead>\n",
       "    <tr style=\"text-align: right;\">\n",
       "      <th></th>\n",
       "      <th>symbol</th>\n",
       "      <th>date</th>\n",
       "      <th>close</th>\n",
       "      <th>high</th>\n",
       "      <th>low</th>\n",
       "      <th>open</th>\n",
       "      <th>volume</th>\n",
       "      <th>adjClose</th>\n",
       "      <th>adjHigh</th>\n",
       "      <th>adjLow</th>\n",
       "      <th>adjOpen</th>\n",
       "      <th>adjVolume</th>\n",
       "      <th>divCash</th>\n",
       "      <th>splitFactor</th>\n",
       "    </tr>\n",
       "  </thead>\n",
       "  <tbody>\n",
       "    <tr>\n",
       "      <th>0</th>\n",
       "      <td>AAPL</td>\n",
       "      <td>2015-11-03 00:00:00+00:00</td>\n",
       "      <td>122.570</td>\n",
       "      <td>123.49</td>\n",
       "      <td>120.700</td>\n",
       "      <td>120.79</td>\n",
       "      <td>45518976</td>\n",
       "      <td>28.313084</td>\n",
       "      <td>28.525599</td>\n",
       "      <td>27.881122</td>\n",
       "      <td>27.901912</td>\n",
       "      <td>182075904</td>\n",
       "      <td>0.00</td>\n",
       "      <td>1.0</td>\n",
       "    </tr>\n",
       "    <tr>\n",
       "      <th>1</th>\n",
       "      <td>AAPL</td>\n",
       "      <td>2015-11-04 00:00:00+00:00</td>\n",
       "      <td>122.000</td>\n",
       "      <td>123.82</td>\n",
       "      <td>121.620</td>\n",
       "      <td>123.13</td>\n",
       "      <td>44886050</td>\n",
       "      <td>28.181416</td>\n",
       "      <td>28.601828</td>\n",
       "      <td>28.093638</td>\n",
       "      <td>28.442441</td>\n",
       "      <td>179544200</td>\n",
       "      <td>0.00</td>\n",
       "      <td>1.0</td>\n",
       "    </tr>\n",
       "    <tr>\n",
       "      <th>2</th>\n",
       "      <td>AAPL</td>\n",
       "      <td>2015-11-05 00:00:00+00:00</td>\n",
       "      <td>120.920</td>\n",
       "      <td>122.69</td>\n",
       "      <td>120.180</td>\n",
       "      <td>121.85</td>\n",
       "      <td>39552680</td>\n",
       "      <td>28.052059</td>\n",
       "      <td>28.462679</td>\n",
       "      <td>27.880387</td>\n",
       "      <td>28.267808</td>\n",
       "      <td>158210720</td>\n",
       "      <td>0.52</td>\n",
       "      <td>1.0</td>\n",
       "    </tr>\n",
       "    <tr>\n",
       "      <th>3</th>\n",
       "      <td>AAPL</td>\n",
       "      <td>2015-11-06 00:00:00+00:00</td>\n",
       "      <td>121.060</td>\n",
       "      <td>121.81</td>\n",
       "      <td>120.620</td>\n",
       "      <td>121.11</td>\n",
       "      <td>33042283</td>\n",
       "      <td>28.084537</td>\n",
       "      <td>28.258529</td>\n",
       "      <td>27.982462</td>\n",
       "      <td>28.096137</td>\n",
       "      <td>132169132</td>\n",
       "      <td>0.00</td>\n",
       "      <td>1.0</td>\n",
       "    </tr>\n",
       "    <tr>\n",
       "      <th>4</th>\n",
       "      <td>AAPL</td>\n",
       "      <td>2015-11-09 00:00:00+00:00</td>\n",
       "      <td>120.570</td>\n",
       "      <td>121.81</td>\n",
       "      <td>120.050</td>\n",
       "      <td>120.96</td>\n",
       "      <td>33871405</td>\n",
       "      <td>27.970863</td>\n",
       "      <td>28.258529</td>\n",
       "      <td>27.850229</td>\n",
       "      <td>28.061338</td>\n",
       "      <td>135485620</td>\n",
       "      <td>0.00</td>\n",
       "      <td>1.0</td>\n",
       "    </tr>\n",
       "    <tr>\n",
       "      <th>5</th>\n",
       "      <td>AAPL</td>\n",
       "      <td>2015-11-10 00:00:00+00:00</td>\n",
       "      <td>116.770</td>\n",
       "      <td>118.07</td>\n",
       "      <td>116.061</td>\n",
       "      <td>116.90</td>\n",
       "      <td>59127931</td>\n",
       "      <td>27.089306</td>\n",
       "      <td>27.390891</td>\n",
       "      <td>26.924826</td>\n",
       "      <td>27.119465</td>\n",
       "      <td>236511724</td>\n",
       "      <td>0.00</td>\n",
       "      <td>1.0</td>\n",
       "    </tr>\n",
       "    <tr>\n",
       "      <th>6</th>\n",
       "      <td>AAPL</td>\n",
       "      <td>2015-11-11 00:00:00+00:00</td>\n",
       "      <td>116.110</td>\n",
       "      <td>117.42</td>\n",
       "      <td>115.210</td>\n",
       "      <td>116.37</td>\n",
       "      <td>45217971</td>\n",
       "      <td>26.936194</td>\n",
       "      <td>27.240099</td>\n",
       "      <td>26.727404</td>\n",
       "      <td>26.996511</td>\n",
       "      <td>180871884</td>\n",
       "      <td>0.00</td>\n",
       "      <td>1.0</td>\n",
       "    </tr>\n",
       "    <tr>\n",
       "      <th>7</th>\n",
       "      <td>AAPL</td>\n",
       "      <td>2015-11-12 00:00:00+00:00</td>\n",
       "      <td>115.720</td>\n",
       "      <td>116.82</td>\n",
       "      <td>115.650</td>\n",
       "      <td>116.26</td>\n",
       "      <td>32525579</td>\n",
       "      <td>26.845718</td>\n",
       "      <td>27.100906</td>\n",
       "      <td>26.829479</td>\n",
       "      <td>26.970992</td>\n",
       "      <td>130102316</td>\n",
       "      <td>0.00</td>\n",
       "      <td>1.0</td>\n",
       "    </tr>\n",
       "    <tr>\n",
       "      <th>8</th>\n",
       "      <td>AAPL</td>\n",
       "      <td>2015-11-13 00:00:00+00:00</td>\n",
       "      <td>112.340</td>\n",
       "      <td>115.57</td>\n",
       "      <td>112.270</td>\n",
       "      <td>115.20</td>\n",
       "      <td>45812403</td>\n",
       "      <td>26.061597</td>\n",
       "      <td>26.810920</td>\n",
       "      <td>26.045358</td>\n",
       "      <td>26.725084</td>\n",
       "      <td>183249612</td>\n",
       "      <td>0.00</td>\n",
       "      <td>1.0</td>\n",
       "    </tr>\n",
       "    <tr>\n",
       "      <th>9</th>\n",
       "      <td>AAPL</td>\n",
       "      <td>2015-11-16 00:00:00+00:00</td>\n",
       "      <td>114.175</td>\n",
       "      <td>114.24</td>\n",
       "      <td>111.000</td>\n",
       "      <td>111.38</td>\n",
       "      <td>38106701</td>\n",
       "      <td>26.487296</td>\n",
       "      <td>26.502375</td>\n",
       "      <td>25.750732</td>\n",
       "      <td>25.838888</td>\n",
       "      <td>152426804</td>\n",
       "      <td>0.00</td>\n",
       "      <td>1.0</td>\n",
       "    </tr>\n",
       "  </tbody>\n",
       "</table>\n",
       "</div>"
      ],
      "text/plain": [
       "  symbol                       date    close  ...  adjVolume  divCash  splitFactor\n",
       "0   AAPL  2015-11-03 00:00:00+00:00  122.570  ...  182075904     0.00          1.0\n",
       "1   AAPL  2015-11-04 00:00:00+00:00  122.000  ...  179544200     0.00          1.0\n",
       "2   AAPL  2015-11-05 00:00:00+00:00  120.920  ...  158210720     0.52          1.0\n",
       "3   AAPL  2015-11-06 00:00:00+00:00  121.060  ...  132169132     0.00          1.0\n",
       "4   AAPL  2015-11-09 00:00:00+00:00  120.570  ...  135485620     0.00          1.0\n",
       "5   AAPL  2015-11-10 00:00:00+00:00  116.770  ...  236511724     0.00          1.0\n",
       "6   AAPL  2015-11-11 00:00:00+00:00  116.110  ...  180871884     0.00          1.0\n",
       "7   AAPL  2015-11-12 00:00:00+00:00  115.720  ...  130102316     0.00          1.0\n",
       "8   AAPL  2015-11-13 00:00:00+00:00  112.340  ...  183249612     0.00          1.0\n",
       "9   AAPL  2015-11-16 00:00:00+00:00  114.175  ...  152426804     0.00          1.0\n",
       "\n",
       "[10 rows x 14 columns]"
      ]
     },
     "metadata": {
      "tags": []
     },
     "output_type": "display_data"
    },
    {
     "data": {
      "text/html": [
       "<div>\n",
       "<style scoped>\n",
       "    .dataframe tbody tr th:only-of-type {\n",
       "        vertical-align: middle;\n",
       "    }\n",
       "\n",
       "    .dataframe tbody tr th {\n",
       "        vertical-align: top;\n",
       "    }\n",
       "\n",
       "    .dataframe thead th {\n",
       "        text-align: right;\n",
       "    }\n",
       "</style>\n",
       "<table border=\"1\" class=\"dataframe\">\n",
       "  <thead>\n",
       "    <tr style=\"text-align: right;\">\n",
       "      <th></th>\n",
       "      <th>symbol</th>\n",
       "      <th>date</th>\n",
       "      <th>close</th>\n",
       "      <th>high</th>\n",
       "      <th>low</th>\n",
       "      <th>open</th>\n",
       "      <th>volume</th>\n",
       "      <th>adjClose</th>\n",
       "      <th>adjHigh</th>\n",
       "      <th>adjLow</th>\n",
       "      <th>adjOpen</th>\n",
       "      <th>adjVolume</th>\n",
       "      <th>divCash</th>\n",
       "      <th>splitFactor</th>\n",
       "    </tr>\n",
       "  </thead>\n",
       "  <tbody>\n",
       "    <tr>\n",
       "      <th>1248</th>\n",
       "      <td>AAPL</td>\n",
       "      <td>2020-10-19 00:00:00+00:00</td>\n",
       "      <td>115.98</td>\n",
       "      <td>120.419</td>\n",
       "      <td>115.6600</td>\n",
       "      <td>119.96</td>\n",
       "      <td>120639337</td>\n",
       "      <td>115.98</td>\n",
       "      <td>120.419</td>\n",
       "      <td>115.6600</td>\n",
       "      <td>119.96</td>\n",
       "      <td>120639337</td>\n",
       "      <td>0.0</td>\n",
       "      <td>1.0</td>\n",
       "    </tr>\n",
       "    <tr>\n",
       "      <th>1249</th>\n",
       "      <td>AAPL</td>\n",
       "      <td>2020-10-20 00:00:00+00:00</td>\n",
       "      <td>117.51</td>\n",
       "      <td>118.980</td>\n",
       "      <td>115.6300</td>\n",
       "      <td>116.20</td>\n",
       "      <td>124423728</td>\n",
       "      <td>117.51</td>\n",
       "      <td>118.980</td>\n",
       "      <td>115.6300</td>\n",
       "      <td>116.20</td>\n",
       "      <td>124423728</td>\n",
       "      <td>0.0</td>\n",
       "      <td>1.0</td>\n",
       "    </tr>\n",
       "    <tr>\n",
       "      <th>1250</th>\n",
       "      <td>AAPL</td>\n",
       "      <td>2020-10-21 00:00:00+00:00</td>\n",
       "      <td>116.87</td>\n",
       "      <td>118.705</td>\n",
       "      <td>116.4500</td>\n",
       "      <td>116.67</td>\n",
       "      <td>89945980</td>\n",
       "      <td>116.87</td>\n",
       "      <td>118.705</td>\n",
       "      <td>116.4500</td>\n",
       "      <td>116.67</td>\n",
       "      <td>89945980</td>\n",
       "      <td>0.0</td>\n",
       "      <td>1.0</td>\n",
       "    </tr>\n",
       "    <tr>\n",
       "      <th>1251</th>\n",
       "      <td>AAPL</td>\n",
       "      <td>2020-10-22 00:00:00+00:00</td>\n",
       "      <td>115.75</td>\n",
       "      <td>118.040</td>\n",
       "      <td>114.5900</td>\n",
       "      <td>117.45</td>\n",
       "      <td>101987954</td>\n",
       "      <td>115.75</td>\n",
       "      <td>118.040</td>\n",
       "      <td>114.5900</td>\n",
       "      <td>117.45</td>\n",
       "      <td>101987954</td>\n",
       "      <td>0.0</td>\n",
       "      <td>1.0</td>\n",
       "    </tr>\n",
       "    <tr>\n",
       "      <th>1252</th>\n",
       "      <td>AAPL</td>\n",
       "      <td>2020-10-23 00:00:00+00:00</td>\n",
       "      <td>115.04</td>\n",
       "      <td>116.550</td>\n",
       "      <td>114.2800</td>\n",
       "      <td>116.39</td>\n",
       "      <td>82572645</td>\n",
       "      <td>115.04</td>\n",
       "      <td>116.550</td>\n",
       "      <td>114.2800</td>\n",
       "      <td>116.39</td>\n",
       "      <td>82572645</td>\n",
       "      <td>0.0</td>\n",
       "      <td>1.0</td>\n",
       "    </tr>\n",
       "    <tr>\n",
       "      <th>1253</th>\n",
       "      <td>AAPL</td>\n",
       "      <td>2020-10-26 00:00:00+00:00</td>\n",
       "      <td>115.05</td>\n",
       "      <td>116.550</td>\n",
       "      <td>112.8800</td>\n",
       "      <td>114.01</td>\n",
       "      <td>111850657</td>\n",
       "      <td>115.05</td>\n",
       "      <td>116.550</td>\n",
       "      <td>112.8800</td>\n",
       "      <td>114.01</td>\n",
       "      <td>111850657</td>\n",
       "      <td>0.0</td>\n",
       "      <td>1.0</td>\n",
       "    </tr>\n",
       "    <tr>\n",
       "      <th>1254</th>\n",
       "      <td>AAPL</td>\n",
       "      <td>2020-10-27 00:00:00+00:00</td>\n",
       "      <td>116.60</td>\n",
       "      <td>117.280</td>\n",
       "      <td>114.5399</td>\n",
       "      <td>115.49</td>\n",
       "      <td>92276772</td>\n",
       "      <td>116.60</td>\n",
       "      <td>117.280</td>\n",
       "      <td>114.5399</td>\n",
       "      <td>115.49</td>\n",
       "      <td>92276772</td>\n",
       "      <td>0.0</td>\n",
       "      <td>1.0</td>\n",
       "    </tr>\n",
       "    <tr>\n",
       "      <th>1255</th>\n",
       "      <td>AAPL</td>\n",
       "      <td>2020-10-28 00:00:00+00:00</td>\n",
       "      <td>111.20</td>\n",
       "      <td>115.430</td>\n",
       "      <td>111.1000</td>\n",
       "      <td>115.05</td>\n",
       "      <td>143937823</td>\n",
       "      <td>111.20</td>\n",
       "      <td>115.430</td>\n",
       "      <td>111.1000</td>\n",
       "      <td>115.05</td>\n",
       "      <td>143937823</td>\n",
       "      <td>0.0</td>\n",
       "      <td>1.0</td>\n",
       "    </tr>\n",
       "    <tr>\n",
       "      <th>1256</th>\n",
       "      <td>AAPL</td>\n",
       "      <td>2020-10-29 00:00:00+00:00</td>\n",
       "      <td>115.32</td>\n",
       "      <td>116.930</td>\n",
       "      <td>112.2000</td>\n",
       "      <td>112.37</td>\n",
       "      <td>146129173</td>\n",
       "      <td>115.32</td>\n",
       "      <td>116.930</td>\n",
       "      <td>112.2000</td>\n",
       "      <td>112.37</td>\n",
       "      <td>146129173</td>\n",
       "      <td>0.0</td>\n",
       "      <td>1.0</td>\n",
       "    </tr>\n",
       "    <tr>\n",
       "      <th>1257</th>\n",
       "      <td>AAPL</td>\n",
       "      <td>2020-10-30 00:00:00+00:00</td>\n",
       "      <td>108.86</td>\n",
       "      <td>111.990</td>\n",
       "      <td>107.7200</td>\n",
       "      <td>111.06</td>\n",
       "      <td>190573476</td>\n",
       "      <td>108.86</td>\n",
       "      <td>111.990</td>\n",
       "      <td>107.7200</td>\n",
       "      <td>111.06</td>\n",
       "      <td>190573476</td>\n",
       "      <td>0.0</td>\n",
       "      <td>1.0</td>\n",
       "    </tr>\n",
       "  </tbody>\n",
       "</table>\n",
       "</div>"
      ],
      "text/plain": [
       "     symbol                       date   close  ...  adjVolume  divCash  splitFactor\n",
       "1248   AAPL  2020-10-19 00:00:00+00:00  115.98  ...  120639337      0.0          1.0\n",
       "1249   AAPL  2020-10-20 00:00:00+00:00  117.51  ...  124423728      0.0          1.0\n",
       "1250   AAPL  2020-10-21 00:00:00+00:00  116.87  ...   89945980      0.0          1.0\n",
       "1251   AAPL  2020-10-22 00:00:00+00:00  115.75  ...  101987954      0.0          1.0\n",
       "1252   AAPL  2020-10-23 00:00:00+00:00  115.04  ...   82572645      0.0          1.0\n",
       "1253   AAPL  2020-10-26 00:00:00+00:00  115.05  ...  111850657      0.0          1.0\n",
       "1254   AAPL  2020-10-27 00:00:00+00:00  116.60  ...   92276772      0.0          1.0\n",
       "1255   AAPL  2020-10-28 00:00:00+00:00  111.20  ...  143937823      0.0          1.0\n",
       "1256   AAPL  2020-10-29 00:00:00+00:00  115.32  ...  146129173      0.0          1.0\n",
       "1257   AAPL  2020-10-30 00:00:00+00:00  108.86  ...  190573476      0.0          1.0\n",
       "\n",
       "[10 rows x 14 columns]"
      ]
     },
     "metadata": {
      "tags": []
     },
     "output_type": "display_data"
    }
   ],
   "source": [
    "import pandas as pd\n",
    "from IPython.display import display\n",
    "\n",
    "df = pd.read_csv(\"/content/AAPL.csv\")\n",
    "display(df.head(10))\n",
    "display(df.tail(10))"
   ]
  },
  {
   "cell_type": "code",
   "execution_count": 5,
   "metadata": {
    "colab": {
     "base_uri": "https://localhost:8080/"
    },
    "id": "A7nCXjAcEQ_1",
    "outputId": "29875943-259d-4c9c-fd9c-775a3f062cf6"
   },
   "outputs": [
    {
     "name": "stdout",
     "output_type": "stream",
     "text": [
      "<class 'str'> \n",
      "\n",
      " Last available date = 2020-10-30 \n",
      "\n",
      "\n",
      "<class 'datetime.datetime'> \n",
      "Last available date = 2020-10-30 00:00:00 \n",
      "\n",
      "\n",
      "Total values to be predicted are: 43 \n",
      "\n",
      "\n",
      "\n"
     ]
    }
   ],
   "source": [
    "from datetime import datetime, timedelta\n",
    "import calendar\n",
    "\n",
    "d = list(df['date'])[-1]\n",
    "\n",
    "\n",
    "# take the last known value of stock, and extract its date\n",
    "d = d.split(\" \")[0]\n",
    "print(type(d), \"\\n\\n\", \"Last available date =\",d, \"\\n\\n\")\n",
    "\n",
    "# convert the date in string format to datetime object\n",
    "dd = datetime.strptime(d, \"%Y-%m-%d\")\n",
    "print(type(dd), \"\\nLast available date =\", dd, \"\\n\\n\")\n",
    "\n",
    "# contain all the dates for which the model has to predict the stock value\n",
    "futureDates = []\n",
    "t, counter = 1, 0\n",
    "while counter < 30:\n",
    "  td = dd + timedelta(days=t)\n",
    "  wd = calendar.day_name[td.weekday()]\n",
    "  if wd != 'Sunday' and wd != 'Saturday':\n",
    "    futureDates.append(dd + timedelta(days=t))\n",
    "    counter += 1\n",
    "  t += 1\n",
    "\n",
    "print(\"Total values to be predicted are:\", t, \"\\n\\n\\n\")"
   ]
  },
  {
   "cell_type": "markdown",
   "metadata": {
    "id": "U0VYYI8NqpAK"
   },
   "source": [
    "using the closing price, i.e. price at the end of the day for the share of Apple."
   ]
  },
  {
   "cell_type": "code",
   "execution_count": 6,
   "metadata": {
    "colab": {
     "base_uri": "https://localhost:8080/"
    },
    "id": "yuD-925pp9A5",
    "outputId": "d31b4760-1d08-4bfe-d1dc-18d2ef383115"
   },
   "outputs": [
    {
     "data": {
      "text/plain": [
       "0    122.570\n",
       "1    122.000\n",
       "2    120.920\n",
       "3    121.060\n",
       "4    120.570\n",
       "5    116.770\n",
       "6    116.110\n",
       "7    115.720\n",
       "8    112.340\n",
       "9    114.175\n",
       "Name: close, dtype: float64"
      ]
     },
     "execution_count": 6,
     "metadata": {
      "tags": []
     },
     "output_type": "execute_result"
    }
   ],
   "source": [
    "df2 = df['close'].reset_index(drop=True)\n",
    "df2.head(10)"
   ]
  },
  {
   "cell_type": "code",
   "execution_count": 7,
   "metadata": {
    "colab": {
     "base_uri": "https://localhost:8080/",
     "height": 265
    },
    "id": "YPG8uP1qqjyi",
    "outputId": "70f10323-11c0-4bbe-d6e6-bfb92271d778"
   },
   "outputs": [
    {
     "data": {
      "image/png": "[encoded data removed]",
      "text/plain": [
       "<Figure size 432x288 with 1 Axes>"
      ]
     },
     "metadata": {
      "needs_background": "light",
      "tags": []
     },
     "output_type": "display_data"
    }
   ],
   "source": [
    "import matplotlib.pyplot as plt\n",
    "%matplotlib inline\n",
    "plt.plot(df2)\n",
    "plt.show()"
   ]
  },
  {
   "cell_type": "markdown",
   "metadata": {
    "id": "aIR9z7W_q6Qi"
   },
   "source": [
    "since LSTMs are sensitive to the scale of the data, and ANNs usually expect normalized and scaled data, we have to scale the stock prices using `MinMax` scaler"
   ]
  },
  {
   "cell_type": "code",
   "execution_count": 8,
   "metadata": {
    "id": "rpg6z4Y_sJMa"
   },
   "outputs": [],
   "source": [
    "import numpy as np\n",
    "\n",
    "from sklearn.preprocessing import MinMaxScaler\n",
    "scaler = MinMaxScaler(feature_range=(0, 1))\n",
    "\n",
    "# initially the shape is (n,), i.e. a list\n",
    "# reshape to (n,1), i.e. a list of lists, where each element-list is a \n",
    "# mono-membered list\n",
    "df1 = scaler.fit_transform(np.array(df2).reshape(-1, 1))"
   ]
  },
  {
   "cell_type": "code",
   "execution_count": 9,
   "metadata": {
    "colab": {
     "base_uri": "https://localhost:8080/",
     "height": 283
    },
    "id": "gpp2d3z-s8gM",
    "outputId": "61c5664a-65c5-43c1-fbe8-1067404ae075"
   },
   "outputs": [
    {
     "data": {
      "text/plain": [
       "[<matplotlib.lines.Line2D at 0x7f0b93a24e48>]"
      ]
     },
     "execution_count": 9,
     "metadata": {
      "tags": []
     },
     "output_type": "execute_result"
    },
    {
     "data": {
      "image/png": "[encoded data removed]",
      "text/plain": [
       "<Figure size 432x288 with 1 Axes>"
      ]
     },
     "metadata": {
      "needs_background": "light",
      "tags": []
     },
     "output_type": "display_data"
    }
   ],
   "source": [
    "plt.plot(df1)"
   ]
  },
  {
   "cell_type": "markdown",
   "metadata": {
    "id": "duslMQhMtAQS"
   },
   "source": [
    "# Preprocess the data - Train-test determination\n",
    "\n",
    "1. the split may be such tha 70% of total time-series data could be considered as train-data and the remaining 30% as the test-data\n",
    "\n",
    "2. the split cannot be random, the 70% should all be sequential, and the 30% in the test should all be sequential\n",
    "\n",
    "3. hence, for instance, out of a total data for 100 days, take the first 70days worth of data as training-set and the remaining 30days worth of data as test-set."
   ]
  },
  {
   "cell_type": "code",
   "execution_count": 10,
   "metadata": {
    "id": "6loi8JL-xyeC"
   },
   "outputs": [],
   "source": [
    "train_size = int(len(df1)*0.65)\n",
    "test_size = len(df1) - train_size\n",
    "train_data, test_data = df1[0:train_size, :], df1[train_size:, :]"
   ]
  },
  {
   "cell_type": "code",
   "execution_count": 11,
   "metadata": {
    "colab": {
     "base_uri": "https://localhost:8080/"
    },
    "id": "hoRGUpeLyKPJ",
    "outputId": "8f7abc00-48ad-4c6b-934e-60e9058596cd"
   },
   "outputs": [
    {
     "name": "stdout",
     "output_type": "stream",
     "text": [
      "The shape of training data is: (817, 1)  and that of test data is: (441, 1)\n"
     ]
    }
   ],
   "source": [
    "print(\n",
    "    \"The shape of training data is:\",\n",
    "    train_data.shape, \n",
    "    \" and that of test data is:\", \n",
    "    test_data.shape)"
   ]
  },
  {
   "cell_type": "markdown",
   "metadata": {
    "id": "8S0LgsmiyZhZ"
   },
   "source": [
    "1. output at time-step t has to be the input for time-step t+1 and the input to \n",
    "time-step t is the output of step t-1\n",
    "\n",
    "2. hence we need to create features and labels in such a way that, for a data of 10 days, assuming that we have 3 independent features and the output\n",
    "dependent feature, then the following sets would be created.\n",
    "\n",
    "| Timestep | feature-1 | feature-2 | feature-3 | output |\n",
    "|-|-|-|-|-|\n",
    "| 1 | x$_1$ | x$_2$ | x$_3$ | x$_4$ |\n",
    "| 2 | x$_2$ | x$_3$ | x$_4$ | x$_5$ |\n",
    "| 3 | x$_3$ | x$_4$ | x$_5$ | x$_6$ |\n",
    "| 4 | x$_4$ | x$_5$ | x$_6$ | x$_7$ |\n",
    "| 5 | x$_5$ | x$_6$ | x$_7$ | x$_8$ |\n",
    "| 6 | x$_6$ | x$_7$ | x$_8$ | x$_9$ |\n",
    "| 7 | x$_7$ | x$_8$ | x$_9$ | x$_{10}$ |"
   ]
  },
  {
   "cell_type": "code",
   "execution_count": 12,
   "metadata": {
    "id": "A-e0twaC0tYb"
   },
   "outputs": [],
   "source": [
    "def create_dataset(dataset, time_step=1):\n",
    "  X, Y = [], []\n",
    "  for i in range(len(dataset)-time_step-1):\n",
    "    a = dataset[i:i+time_step, 0]\n",
    "    X.append(a)\n",
    "    Y.append(dataset[i+time_step, 0])\n",
    "  return np.array(X), np.array(Y)"
   ]
  },
  {
   "cell_type": "code",
   "execution_count": 13,
   "metadata": {
    "colab": {
     "base_uri": "https://localhost:8080/"
    },
    "id": "SU6H_gDD1hXZ",
    "outputId": "d4905a1c-80af-49aa-d617-d63cc83c9b54"
   },
   "outputs": [
    {
     "name": "stdout",
     "output_type": "stream",
     "text": [
      "(716, 100) (340, 100)\n"
     ]
    }
   ],
   "source": [
    "time_step = 100\n",
    "X_train, y_train = create_dataset(train_data, time_step=time_step)\n",
    "X_test, y_test = create_dataset(test_data, time_step=time_step)\n",
    "\n",
    "print(X_train.shape, X_test.shape)"
   ]
  },
  {
   "cell_type": "markdown",
   "metadata": {
    "id": "1YD7UY41ECXH"
   },
   "source": [
    "0 is padded for every sample, i.e. every time-step entry, since it will be used\n",
    "as an EOS - end-of-sentence, to determine whether the input has finished\n",
    "or not.\n",
    "\n",
    "technically the input sizes are same, opposite to the fact that RNNs(or LSTMs)\n",
    "can handle variable sized inputs."
   ]
  },
  {
   "cell_type": "code",
   "execution_count": 14,
   "metadata": {
    "colab": {
     "base_uri": "https://localhost:8080/"
    },
    "id": "OPXCd15v114a",
    "outputId": "8487d9dd-3ef1-42c1-cace-ced917012f08"
   },
   "outputs": [
    {
     "name": "stdout",
     "output_type": "stream",
     "text": [
      "(716, 100, 1) (340, 100, 1)\n"
     ]
    }
   ],
   "source": [
    "x_train = X_train.reshape(X_train.shape[0], X_train.shape[1], 1)\n",
    "x_test = X_test.reshape(X_test.shape[0], X_test.shape[1], 1)\n",
    "print(x_train.shape, x_test.shape)"
   ]
  },
  {
   "cell_type": "markdown",
   "metadata": {
    "id": "iwWoPx_SFk3x"
   },
   "source": [
    "this is required since LSTM accepts input in this 3-D array manner"
   ]
  },
  {
   "cell_type": "code",
   "execution_count": 15,
   "metadata": {
    "id": "eIqrnsYLFsy0"
   },
   "outputs": [],
   "source": [
    "from tensorflow.keras.models import Sequential\n",
    "from tensorflow.keras.layers import Dense, LSTM"
   ]
  },
  {
   "cell_type": "markdown",
   "metadata": {
    "id": "owkS6N7ZGf_K"
   },
   "source": [
    "using a stacked-LSTM."
   ]
  },
  {
   "cell_type": "code",
   "execution_count": 16,
   "metadata": {
    "id": "8FHcpvuUF5x1"
   },
   "outputs": [],
   "source": [
    "import keras.backend as K\n",
    "K.clear_session()\n",
    "\n",
    "model = Sequential()\n",
    "model.add(LSTM(50, return_sequences=True, input_shape=(100, 1)))\n",
    "model.add(LSTM(50, return_sequences=True))\n",
    "model.add(LSTM(50))\n",
    "model.add(Dense(1)) # output\n",
    "\n",
    "model.compile(loss='mean_squared_error', optimizer='adam')"
   ]
  },
  {
   "cell_type": "code",
   "execution_count": 17,
   "metadata": {
    "colab": {
     "base_uri": "https://localhost:8080/"
    },
    "id": "AdsqdiizGU7i",
    "outputId": "34a62bdc-09e9-4082-e018-74ccbb4f0f19"
   },
   "outputs": [
    {
     "name": "stdout",
     "output_type": "stream",
     "text": [
      "Model: \"sequential\"\n",
      "_________________________________________________________________\n",
      "Layer (type)                 Output Shape              Param #   \n",
      "=================================================================\n",
      "lstm (LSTM)                  (None, 100, 50)           10400     \n",
      "_________________________________________________________________\n",
      "lstm_1 (LSTM)                (None, 100, 50)           20200     \n",
      "_________________________________________________________________\n",
      "lstm_2 (LSTM)                (None, 50)                20200     \n",
      "_________________________________________________________________\n",
      "dense (Dense)                (None, 1)                 51        \n",
      "=================================================================\n",
      "Total params: 50,851\n",
      "Trainable params: 50,851\n",
      "Non-trainable params: 0\n",
      "_________________________________________________________________\n"
     ]
    }
   ],
   "source": [
    "model.summary()"
   ]
  },
  {
   "cell_type": "code",
   "execution_count": 18,
   "metadata": {
    "colab": {
     "base_uri": "https://localhost:8080/"
    },
    "id": "faISqHG-GX0T",
    "outputId": "24cf5e9b-9632-4d94-dd21-59822381a92d"
   },
   "outputs": [
    {
     "name": "stdout",
     "output_type": "stream",
     "text": [
      "Epoch 1/100\n",
      "12/12 - 1s - loss: 0.0099 - val_loss: 0.0541\n",
      "Epoch 2/100\n",
      "12/12 - 0s - loss: 0.0021 - val_loss: 0.0216\n",
      "Epoch 3/100\n",
      "12/12 - 0s - loss: 7.5268e-04 - val_loss: 0.0254\n",
      "Epoch 4/100\n",
      "12/12 - 0s - loss: 6.3709e-04 - val_loss: 0.0203\n",
      "Epoch 5/100\n",
      "12/12 - 0s - loss: 4.2628e-04 - val_loss: 0.0202\n",
      "Epoch 6/100\n",
      "12/12 - 0s - loss: 3.6830e-04 - val_loss: 0.0194\n",
      "Epoch 7/100\n",
      "12/12 - 0s - loss: 3.3658e-04 - val_loss: 0.0189\n",
      "Epoch 8/100\n",
      "12/12 - 0s - loss: 3.4473e-04 - val_loss: 0.0182\n",
      "Epoch 9/100\n",
      "12/12 - 0s - loss: 3.1576e-04 - val_loss: 0.0177\n",
      "Epoch 10/100\n",
      "12/12 - 0s - loss: 2.9985e-04 - val_loss: 0.0174\n",
      "Epoch 11/100\n",
      "12/12 - 0s - loss: 2.9590e-04 - val_loss: 0.0172\n",
      "Epoch 12/100\n",
      "12/12 - 0s - loss: 2.8224e-04 - val_loss: 0.0162\n",
      "Epoch 13/100\n",
      "12/12 - 0s - loss: 2.6087e-04 - val_loss: 0.0157\n",
      "Epoch 14/100\n",
      "12/12 - 0s - loss: 2.4887e-04 - val_loss: 0.0159\n",
      "Epoch 15/100\n",
      "12/12 - 0s - loss: 2.4130e-04 - val_loss: 0.0154\n",
      "Epoch 16/100\n",
      "12/12 - 0s - loss: 2.2456e-04 - val_loss: 0.0153\n",
      "Epoch 17/100\n",
      "12/12 - 0s - loss: 2.2225e-04 - val_loss: 0.0172\n",
      "Epoch 18/100\n",
      "12/12 - 0s - loss: 2.4992e-04 - val_loss: 0.0151\n",
      "Epoch 19/100\n",
      "12/12 - 0s - loss: 2.2106e-04 - val_loss: 0.0187\n",
      "Epoch 20/100\n",
      "12/12 - 0s - loss: 2.4757e-04 - val_loss: 0.0167\n",
      "Epoch 21/100\n",
      "12/12 - 0s - loss: 2.0448e-04 - val_loss: 0.0164\n",
      "Epoch 22/100\n",
      "12/12 - 0s - loss: 2.0184e-04 - val_loss: 0.0168\n",
      "Epoch 23/100\n",
      "12/12 - 0s - loss: 1.9873e-04 - val_loss: 0.0176\n",
      "Epoch 24/100\n",
      "12/12 - 0s - loss: 2.0312e-04 - val_loss: 0.0148\n",
      "Epoch 25/100\n",
      "12/12 - 0s - loss: 2.0372e-04 - val_loss: 0.0173\n",
      "Epoch 26/100\n",
      "12/12 - 0s - loss: 1.9730e-04 - val_loss: 0.0143\n",
      "Epoch 27/100\n",
      "12/12 - 0s - loss: 1.9888e-04 - val_loss: 0.0177\n",
      "Epoch 28/100\n",
      "12/12 - 0s - loss: 2.0710e-04 - val_loss: 0.0142\n",
      "Epoch 29/100\n",
      "12/12 - 0s - loss: 2.0245e-04 - val_loss: 0.0147\n",
      "Epoch 30/100\n",
      "12/12 - 0s - loss: 1.8749e-04 - val_loss: 0.0158\n",
      "Epoch 31/100\n",
      "12/12 - 0s - loss: 1.8485e-04 - val_loss: 0.0147\n",
      "Epoch 32/100\n",
      "12/12 - 0s - loss: 1.7934e-04 - val_loss: 0.0143\n",
      "Epoch 33/100\n",
      "12/12 - 0s - loss: 1.9399e-04 - val_loss: 0.0142\n",
      "Epoch 34/100\n",
      "12/12 - 0s - loss: 1.8124e-04 - val_loss: 0.0162\n",
      "Epoch 35/100\n",
      "12/12 - 0s - loss: 1.9621e-04 - val_loss: 0.0142\n",
      "Epoch 36/100\n",
      "12/12 - 0s - loss: 1.8400e-04 - val_loss: 0.0139\n",
      "Epoch 37/100\n",
      "12/12 - 0s - loss: 1.9024e-04 - val_loss: 0.0136\n",
      "Epoch 38/100\n",
      "12/12 - 0s - loss: 1.8625e-04 - val_loss: 0.0158\n",
      "Epoch 39/100\n",
      "12/12 - 0s - loss: 1.7604e-04 - val_loss: 0.0137\n",
      "Epoch 40/100\n",
      "12/12 - 0s - loss: 1.7700e-04 - val_loss: 0.0157\n",
      "Epoch 41/100\n",
      "12/12 - 0s - loss: 1.7539e-04 - val_loss: 0.0136\n",
      "Epoch 42/100\n",
      "12/12 - 0s - loss: 1.7906e-04 - val_loss: 0.0169\n",
      "Epoch 43/100\n",
      "12/12 - 0s - loss: 1.9957e-04 - val_loss: 0.0129\n",
      "Epoch 44/100\n",
      "12/12 - 0s - loss: 1.8139e-04 - val_loss: 0.0128\n",
      "Epoch 45/100\n",
      "12/12 - 0s - loss: 2.0982e-04 - val_loss: 0.0140\n",
      "Epoch 46/100\n",
      "12/12 - 0s - loss: 1.7708e-04 - val_loss: 0.0119\n",
      "Epoch 47/100\n",
      "12/12 - 0s - loss: 1.7433e-04 - val_loss: 0.0123\n",
      "Epoch 48/100\n",
      "12/12 - 0s - loss: 1.7973e-04 - val_loss: 0.0135\n",
      "Epoch 49/100\n",
      "12/12 - 0s - loss: 1.6807e-04 - val_loss: 0.0141\n",
      "Epoch 50/100\n",
      "12/12 - 0s - loss: 1.6888e-04 - val_loss: 0.0149\n",
      "Epoch 51/100\n",
      "12/12 - 0s - loss: 1.6653e-04 - val_loss: 0.0141\n",
      "Epoch 52/100\n",
      "12/12 - 0s - loss: 1.5551e-04 - val_loss: 0.0146\n",
      "Epoch 53/100\n",
      "12/12 - 0s - loss: 1.6133e-04 - val_loss: 0.0158\n",
      "Epoch 54/100\n",
      "12/12 - 0s - loss: 1.5578e-04 - val_loss: 0.0140\n",
      "Epoch 55/100\n",
      "12/12 - 0s - loss: 1.5500e-04 - val_loss: 0.0167\n",
      "Epoch 56/100\n",
      "12/12 - 0s - loss: 1.4852e-04 - val_loss: 0.0162\n",
      "Epoch 57/100\n",
      "12/12 - 0s - loss: 1.4734e-04 - val_loss: 0.0206\n",
      "Epoch 58/100\n",
      "12/12 - 0s - loss: 1.5874e-04 - val_loss: 0.0182\n",
      "Epoch 59/100\n",
      "12/12 - 0s - loss: 1.4409e-04 - val_loss: 0.0213\n",
      "Epoch 60/100\n",
      "12/12 - 0s - loss: 1.5167e-04 - val_loss: 0.0180\n",
      "Epoch 61/100\n",
      "12/12 - 0s - loss: 1.7103e-04 - val_loss: 0.0165\n",
      "Epoch 62/100\n",
      "12/12 - 0s - loss: 1.6082e-04 - val_loss: 0.0175\n",
      "Epoch 63/100\n",
      "12/12 - 0s - loss: 1.9661e-04 - val_loss: 0.0199\n",
      "Epoch 64/100\n",
      "12/12 - 0s - loss: 1.3859e-04 - val_loss: 0.0197\n",
      "Epoch 65/100\n",
      "12/12 - 0s - loss: 1.3241e-04 - val_loss: 0.0317\n",
      "Epoch 66/100\n",
      "12/12 - 0s - loss: 1.3212e-04 - val_loss: 0.0391\n",
      "Epoch 67/100\n",
      "12/12 - 0s - loss: 1.3076e-04 - val_loss: 0.0404\n",
      "Epoch 68/100\n",
      "12/12 - 0s - loss: 1.3872e-04 - val_loss: 0.0346\n",
      "Epoch 69/100\n",
      "12/12 - 0s - loss: 1.2713e-04 - val_loss: 0.0413\n",
      "Epoch 70/100\n",
      "12/12 - 0s - loss: 1.2726e-04 - val_loss: 0.0443\n",
      "Epoch 71/100\n",
      "12/12 - 0s - loss: 1.2932e-04 - val_loss: 0.0359\n",
      "Epoch 72/100\n",
      "12/12 - 0s - loss: 1.2920e-04 - val_loss: 0.0391\n",
      "Epoch 73/100\n",
      "12/12 - 0s - loss: 1.3163e-04 - val_loss: 0.0324\n",
      "Epoch 74/100\n",
      "12/12 - 0s - loss: 1.2327e-04 - val_loss: 0.0333\n",
      "Epoch 75/100\n",
      "12/12 - 0s - loss: 1.2771e-04 - val_loss: 0.0504\n",
      "Epoch 76/100\n",
      "12/12 - 0s - loss: 1.1799e-04 - val_loss: 0.0463\n",
      "Epoch 77/100\n",
      "12/12 - 0s - loss: 1.2495e-04 - val_loss: 0.0345\n",
      "Epoch 78/100\n",
      "12/12 - 0s - loss: 1.1666e-04 - val_loss: 0.0444\n",
      "Epoch 79/100\n",
      "12/12 - 0s - loss: 1.1753e-04 - val_loss: 0.0496\n",
      "Epoch 80/100\n",
      "12/12 - 0s - loss: 1.1819e-04 - val_loss: 0.0312\n",
      "Epoch 81/100\n",
      "12/12 - 0s - loss: 1.2604e-04 - val_loss: 0.0332\n",
      "Epoch 82/100\n",
      "12/12 - 0s - loss: 1.2517e-04 - val_loss: 0.0365\n",
      "Epoch 83/100\n",
      "12/12 - 0s - loss: 1.2563e-04 - val_loss: 0.0249\n",
      "Epoch 84/100\n",
      "12/12 - 0s - loss: 1.1538e-04 - val_loss: 0.0338\n",
      "Epoch 85/100\n",
      "12/12 - 0s - loss: 1.2002e-04 - val_loss: 0.0312\n",
      "Epoch 86/100\n",
      "12/12 - 0s - loss: 1.2682e-04 - val_loss: 0.0301\n",
      "Epoch 87/100\n",
      "12/12 - 0s - loss: 1.1244e-04 - val_loss: 0.0410\n",
      "Epoch 88/100\n",
      "12/12 - 0s - loss: 1.5122e-04 - val_loss: 0.0166\n",
      "Epoch 89/100\n",
      "12/12 - 0s - loss: 1.2703e-04 - val_loss: 0.0171\n",
      "Epoch 90/100\n",
      "12/12 - 0s - loss: 1.0769e-04 - val_loss: 0.0275\n",
      "Epoch 91/100\n",
      "12/12 - 0s - loss: 1.0603e-04 - val_loss: 0.0254\n",
      "Epoch 92/100\n",
      "12/12 - 0s - loss: 1.0929e-04 - val_loss: 0.0192\n",
      "Epoch 93/100\n",
      "12/12 - 0s - loss: 1.2143e-04 - val_loss: 0.0082\n",
      "Epoch 94/100\n",
      "12/12 - 0s - loss: 1.2025e-04 - val_loss: 0.0080\n",
      "Epoch 95/100\n",
      "12/12 - 0s - loss: 1.0455e-04 - val_loss: 0.0086\n",
      "Epoch 96/100\n",
      "12/12 - 0s - loss: 1.1047e-04 - val_loss: 0.0149\n",
      "Epoch 97/100\n",
      "12/12 - 0s - loss: 1.1110e-04 - val_loss: 0.0098\n",
      "Epoch 98/100\n",
      "12/12 - 0s - loss: 1.0474e-04 - val_loss: 0.0108\n",
      "Epoch 99/100\n",
      "12/12 - 0s - loss: 1.0974e-04 - val_loss: 0.0109\n",
      "Epoch 100/100\n",
      "12/12 - 0s - loss: 1.0226e-04 - val_loss: 0.0124\n"
     ]
    }
   ],
   "source": [
    "history = model.fit(x_train, y_train, validation_data=(x_test, y_test), epochs=100, batch_size=64, verbose=2)"
   ]
  },
  {
   "cell_type": "code",
   "execution_count": 19,
   "metadata": {
    "colab": {
     "base_uri": "https://localhost:8080/",
     "height": 283
    },
    "id": "j2ri62eYLoDK",
    "outputId": "a85be2c4-b7bd-4752-9c67-c804776ec4a2"
   },
   "outputs": [
    {
     "data": {
      "text/plain": [
       "<matplotlib.legend.Legend at 0x7f0af0466dd8>"
      ]
     },
     "execution_count": 19,
     "metadata": {
      "tags": []
     },
     "output_type": "execute_result"
    },
    {
     "data": {
      "image/png": "[encoded data removed]",
      "text/plain": [
       "<Figure size 432x288 with 1 Axes>"
      ]
     },
     "metadata": {
      "needs_background": "light",
      "tags": []
     },
     "output_type": "display_data"
    }
   ],
   "source": [
    "plt.plot(history.history['loss'], label=\"train loss\")\n",
    "plt.plot(history.history['val_loss'], label=\"val loss\")\n",
    "plt.legend()"
   ]
  },
  {
   "cell_type": "markdown",
   "metadata": {
    "id": "TdOBcCRaICY9"
   },
   "source": [
    "# Predict Test data and plot output"
   ]
  },
  {
   "cell_type": "code",
   "execution_count": 20,
   "metadata": {
    "id": "rjG1cmlQINjL"
   },
   "outputs": [],
   "source": [
    "train_predict = model.predict(x_train)\n",
    "test_predict = model.predict(x_test)"
   ]
  },
  {
   "cell_type": "markdown",
   "metadata": {
    "id": "RQaTJxJQIc5S"
   },
   "source": [
    "scale back the predicted values, since these are standardized \n",
    "and normalised in nature"
   ]
  },
  {
   "cell_type": "code",
   "execution_count": 21,
   "metadata": {
    "id": "Y3leUcImIkVr"
   },
   "outputs": [],
   "source": [
    "train_predict = scaler.inverse_transform(train_predict)\n",
    "test_predict = scaler.inverse_transform(test_predict)"
   ]
  },
  {
   "cell_type": "code",
   "execution_count": 22,
   "metadata": {
    "colab": {
     "base_uri": "https://localhost:8080/"
    },
    "id": "jY6C0gWAOprG",
    "outputId": "51fe95dc-b645-4682-f700-c553231b3835"
   },
   "outputs": [
    {
     "name": "stdout",
     "output_type": "stream",
     "text": [
      "(716, 1) (340, 1)\n"
     ]
    }
   ],
   "source": [
    "print(train_predict.shape, test_predict.shape)"
   ]
  },
  {
   "cell_type": "code",
   "execution_count": 23,
   "metadata": {
    "colab": {
     "base_uri": "https://localhost:8080/"
    },
    "id": "Ic2STq0AIw-K",
    "outputId": "7155dfad-26cc-443f-e588-dba4fc6b641e"
   },
   "outputs": [
    {
     "name": "stdout",
     "output_type": "stream",
     "text": [
      "RMSE for train data is: 156.98275379630863\n",
      "RMSE for test data is: 254.3921458832011\n"
     ]
    }
   ],
   "source": [
    "# rmse performance metrics\n",
    "import math\n",
    "from sklearn.metrics import mean_squared_error\n",
    "print(\"RMSE for train data is:\", math.sqrt(mean_squared_error(y_train, train_predict)))\n",
    "print(\"RMSE for test data is:\", math.sqrt(mean_squared_error(y_test, test_predict)))"
   ]
  },
  {
   "cell_type": "markdown",
   "metadata": {
    "id": "VBqamvebL3ni"
   },
   "source": [
    "RMSE seems to be greater, whereas both the validation and train losses were\n",
    "very low, its because the RMSE is calculated after up-scaling the predictions\n",
    "to their original values, hence large variations will be observed anyways"
   ]
  },
  {
   "cell_type": "code",
   "execution_count": 24,
   "metadata": {
    "colab": {
     "base_uri": "https://localhost:8080/",
     "height": 265
    },
    "id": "oBLohBsaJNzb",
    "outputId": "ae11c705-8fc7-484c-f81e-3950129f7034"
   },
   "outputs": [
    {
     "data": {
      "image/png": "[encoded data removed]",
      "text/plain": [
       "<Figure size 432x288 with 1 Axes>"
      ]
     },
     "metadata": {
      "needs_background": "light",
      "tags": []
     },
     "output_type": "display_data"
    }
   ],
   "source": [
    "# shift the values for predictions on train data for convenience in plotting\n",
    "trainPredictedPlot = np.empty_like(df1) # create an empty(no values initialized) \n",
    "                                        # 2-D np array with same shape as df1\n",
    "trainPredictedPlot[:, :] = np.nan # fill all values as nan\n",
    "trainPredictedPlot[time_step:len(train_predict)+time_step, :] = train_predict\n",
    "\n",
    "# shift the values for predictions on test data for convenience in plotting\n",
    "testPredictedPlot = np.empty_like(df1)\n",
    "testPredictedPlot[:, :] = np.nan\n",
    "testPredictedPlot[len(train_predict)+2*time_step+1: len(df1)-1, :] = test_predict\n",
    "\n",
    "# plot baseline and predictions\n",
    "plt.plot(scaler.inverse_transform(df1), label='original')\n",
    "plt.plot(trainPredictedPlot, label=\"train prediction\")\n",
    "plt.plot(testPredictedPlot, label=\"test prediction\")\n",
    "plt.legend()\n",
    "plt.show()"
   ]
  },
  {
   "cell_type": "markdown",
   "metadata": {
    "id": "9m_9Lsm0Lb9Q"
   },
   "source": [
    "# Predict for future\n",
    "predict the output using this model for future 30 days, plot the output"
   ]
  },
  {
   "cell_type": "code",
   "execution_count": 25,
   "metadata": {
    "colab": {
     "base_uri": "https://localhost:8080/"
    },
    "id": "mpwAKoLBM9ZC",
    "outputId": "b2c3914d-b96f-4ced-bd60-5648fcf0accb"
   },
   "outputs": [
    {
     "name": "stdout",
     "output_type": "stream",
     "text": [
      "(1, 100, 1)\n"
     ]
    }
   ],
   "source": [
    "currInput = x_test[-1:]\n",
    "print(currInput.shape)\n",
    "\n",
    "totalDays = 30\n",
    "currDayNum = 0\n",
    "lstm_output = []\n",
    "\n",
    "while currDayNum < totalDays:\n",
    "  y_pred_temp = model.predict(currInput)\n",
    "  lstm_output.append(y_pred_temp[0][0])\n",
    "  tempInput = np.squeeze(currInput)\n",
    "  tempInput = np.append(tempInput[1:], y_pred_temp[0], axis=0)\n",
    "  currInput = np.expand_dims(np.expand_dims(tempInput, axis=1), axis=0)\n",
    "  currDayNum += 1"
   ]
  },
  {
   "cell_type": "code",
   "execution_count": 26,
   "metadata": {
    "id": "jPUja-KUVBk1"
   },
   "outputs": [],
   "source": [
    "lstm_output = np.array(lstm_output).reshape(-1, 1)\n",
    "y_new = scaler.inverse_transform(lstm_output)"
   ]
  },
  {
   "cell_type": "code",
   "execution_count": 27,
   "metadata": {
    "colab": {
     "base_uri": "https://localhost:8080/",
     "height": 283
    },
    "id": "kJ97cHXPVz9H",
    "outputId": "09de05a8-7ded-4a93-a29e-d5e0022495ce"
   },
   "outputs": [
    {
     "data": {
      "text/plain": [
       "[<matplotlib.lines.Line2D at 0x7f0af0050390>]"
      ]
     },
     "execution_count": 27,
     "metadata": {
      "tags": []
     },
     "output_type": "execute_result"
    },
    {
     "data": {
      "image/png": "[encoded data removed]",
      "text/plain": [
       "<Figure size 432x288 with 1 Axes>"
      ]
     },
     "metadata": {
      "needs_background": "light",
      "tags": []
     },
     "output_type": "display_data"
    }
   ],
   "source": [
    "# shift the values for predictions for 3 days further, for \n",
    "# convenience in plotting\n",
    "newShape = (len(df1)+totalDays, 1)\n",
    "predictedPlot = np.empty(shape=newShape)\n",
    "predictedPlot[:, :] = np.nan\n",
    "predictedPlot[len(df1):, :] = y_new\n",
    "\n",
    "plt.plot(scaler.inverse_transform(df1),color=\"yellow\", label='original')\n",
    "plt.plot(trainPredictedPlot, color=\"orange\", label=\"training prediction\")\n",
    "plt.plot(testPredictedPlot, color=\"green\", label=\"testing prediction\")\n",
    "plt.plot(predictedPlot, color=\"red\", label=\"3 days prediction\")"
   ]
  },
  {
   "cell_type": "code",
   "execution_count": 31,
   "metadata": {
    "colab": {
     "base_uri": "https://localhost:8080/"
    },
    "id": "TtoccqHYfUTk",
    "outputId": "f2957551-af7e-4a33-cec5-b1bdf3a5a8bd"
   },
   "outputs": [
    {
     "name": "stdout",
     "output_type": "stream",
     "text": [
      "(30,)\n"
     ]
    }
   ],
   "source": [
    "predictedOutputs = np.squeeze(y_new)\n",
    "print(predictedOutputs.shape)"
   ]
  },
  {
   "cell_type": "code",
   "execution_count": 34,
   "metadata": {
    "colab": {
     "base_uri": "https://localhost:8080/",
     "height": 773
    },
    "id": "KiTVg4Xdb83H",
    "outputId": "307621e1-705f-4dfe-ed7c-e9dcfe8a3898"
   },
   "outputs": [
    {
     "data": {
      "text/html": [
       "<div>\n",
       "<style scoped>\n",
       "    .dataframe tbody tr th:only-of-type {\n",
       "        vertical-align: middle;\n",
       "    }\n",
       "\n",
       "    .dataframe tbody tr th {\n",
       "        vertical-align: top;\n",
       "    }\n",
       "\n",
       "    .dataframe thead th {\n",
       "        text-align: right;\n",
       "    }\n",
       "</style>\n",
       "<table border=\"1\" class=\"dataframe\">\n",
       "  <thead>\n",
       "    <tr style=\"text-align: right;\">\n",
       "      <th></th>\n",
       "      <th>future dates</th>\n",
       "      <th>prediction</th>\n",
       "    </tr>\n",
       "  </thead>\n",
       "  <tbody>\n",
       "    <tr>\n",
       "      <th>0</th>\n",
       "      <td>2020-11-02</td>\n",
       "      <td>90.261528</td>\n",
       "    </tr>\n",
       "    <tr>\n",
       "      <th>1</th>\n",
       "      <td>2020-11-03</td>\n",
       "      <td>91.319832</td>\n",
       "    </tr>\n",
       "    <tr>\n",
       "      <th>2</th>\n",
       "      <td>2020-11-04</td>\n",
       "      <td>90.853371</td>\n",
       "    </tr>\n",
       "    <tr>\n",
       "      <th>3</th>\n",
       "      <td>2020-11-05</td>\n",
       "      <td>89.406227</td>\n",
       "    </tr>\n",
       "    <tr>\n",
       "      <th>4</th>\n",
       "      <td>2020-11-06</td>\n",
       "      <td>87.559273</td>\n",
       "    </tr>\n",
       "    <tr>\n",
       "      <th>5</th>\n",
       "      <td>2020-11-09</td>\n",
       "      <td>85.730782</td>\n",
       "    </tr>\n",
       "    <tr>\n",
       "      <th>6</th>\n",
       "      <td>2020-11-10</td>\n",
       "      <td>84.162476</td>\n",
       "    </tr>\n",
       "    <tr>\n",
       "      <th>7</th>\n",
       "      <td>2020-11-11</td>\n",
       "      <td>82.955620</td>\n",
       "    </tr>\n",
       "    <tr>\n",
       "      <th>8</th>\n",
       "      <td>2020-11-12</td>\n",
       "      <td>82.128120</td>\n",
       "    </tr>\n",
       "    <tr>\n",
       "      <th>9</th>\n",
       "      <td>2020-11-13</td>\n",
       "      <td>81.651566</td>\n",
       "    </tr>\n",
       "  </tbody>\n",
       "</table>\n",
       "</div>"
      ],
      "text/plain": [
       "  future dates  prediction\n",
       "0   2020-11-02   90.261528\n",
       "1   2020-11-03   91.319832\n",
       "2   2020-11-04   90.853371\n",
       "3   2020-11-05   89.406227\n",
       "4   2020-11-06   87.559273\n",
       "5   2020-11-09   85.730782\n",
       "6   2020-11-10   84.162476\n",
       "7   2020-11-11   82.955620\n",
       "8   2020-11-12   82.128120\n",
       "9   2020-11-13   81.651566"
      ]
     },
     "metadata": {
      "tags": []
     },
     "output_type": "display_data"
    },
    {
     "name": "stdout",
     "output_type": "stream",
     "text": [
      "\n",
      "\n",
      "\n",
      "\n"
     ]
    },
    {
     "data": {
      "text/html": [
       "<div>\n",
       "<style scoped>\n",
       "    .dataframe tbody tr th:only-of-type {\n",
       "        vertical-align: middle;\n",
       "    }\n",
       "\n",
       "    .dataframe tbody tr th {\n",
       "        vertical-align: top;\n",
       "    }\n",
       "\n",
       "    .dataframe thead th {\n",
       "        text-align: right;\n",
       "    }\n",
       "</style>\n",
       "<table border=\"1\" class=\"dataframe\">\n",
       "  <thead>\n",
       "    <tr style=\"text-align: right;\">\n",
       "      <th></th>\n",
       "      <th>future dates</th>\n",
       "      <th>prediction</th>\n",
       "    </tr>\n",
       "  </thead>\n",
       "  <tbody>\n",
       "    <tr>\n",
       "      <th>20</th>\n",
       "      <td>2020-11-30</td>\n",
       "      <td>87.166847</td>\n",
       "    </tr>\n",
       "    <tr>\n",
       "      <th>21</th>\n",
       "      <td>2020-12-01</td>\n",
       "      <td>87.868591</td>\n",
       "    </tr>\n",
       "    <tr>\n",
       "      <th>22</th>\n",
       "      <td>2020-12-02</td>\n",
       "      <td>88.537415</td>\n",
       "    </tr>\n",
       "    <tr>\n",
       "      <th>23</th>\n",
       "      <td>2020-12-03</td>\n",
       "      <td>89.169678</td>\n",
       "    </tr>\n",
       "    <tr>\n",
       "      <th>24</th>\n",
       "      <td>2020-12-04</td>\n",
       "      <td>89.763893</td>\n",
       "    </tr>\n",
       "    <tr>\n",
       "      <th>25</th>\n",
       "      <td>2020-12-07</td>\n",
       "      <td>90.320793</td>\n",
       "    </tr>\n",
       "    <tr>\n",
       "      <th>26</th>\n",
       "      <td>2020-12-08</td>\n",
       "      <td>90.841850</td>\n",
       "    </tr>\n",
       "    <tr>\n",
       "      <th>27</th>\n",
       "      <td>2020-12-09</td>\n",
       "      <td>91.329651</td>\n",
       "    </tr>\n",
       "    <tr>\n",
       "      <th>28</th>\n",
       "      <td>2020-12-10</td>\n",
       "      <td>91.787842</td>\n",
       "    </tr>\n",
       "    <tr>\n",
       "      <th>29</th>\n",
       "      <td>2020-12-11</td>\n",
       "      <td>92.220360</td>\n",
       "    </tr>\n",
       "  </tbody>\n",
       "</table>\n",
       "</div>"
      ],
      "text/plain": [
       "   future dates  prediction\n",
       "20   2020-11-30   87.166847\n",
       "21   2020-12-01   87.868591\n",
       "22   2020-12-02   88.537415\n",
       "23   2020-12-03   89.169678\n",
       "24   2020-12-04   89.763893\n",
       "25   2020-12-07   90.320793\n",
       "26   2020-12-08   90.841850\n",
       "27   2020-12-09   91.329651\n",
       "28   2020-12-10   91.787842\n",
       "29   2020-12-11   92.220360"
      ]
     },
     "metadata": {
      "tags": []
     },
     "output_type": "display_data"
    }
   ],
   "source": [
    "# create the predicted dataframe\n",
    "answerDf = pd.DataFrame(\n",
    "    data = {\n",
    "        'future dates': futureDates,\n",
    "        'prediction': predictedOutputs\n",
    "        }\n",
    ")\n",
    "\n",
    "display(answerDf.head(10))\n",
    "print(\"\\n\\n\\n\")\n",
    "display(answerDf.tail(10))"
   ]
  },
  {
   "cell_type": "code",
   "execution_count": null,
   "metadata": {
    "colab": {
     "base_uri": "https://localhost:8080/",
     "height": 143
    },
    "id": "9hLxSujLQgUv",
    "outputId": "27d171c5-cb5b-48c9-9919-2d4e241fb759"
   },
   "outputs": [
    {
     "name": "stdout",
     "output_type": "stream",
     "text": [
      "(1,) 0.029275855 \n",
      "\n",
      "\n",
      "[0.55797956 0.58006013 0.5847745 ]\n",
      "(100,) (1, 100, 1)\n",
      "[0.58006013 0.5847745 ]\n",
      "(1, 100, 1)\n"
     ]
    }
   ],
   "source": [
    "print(y_pred_temp[0].shape, y_pred_temp[0][0], \"\\n\\n\")\n",
    "\n",
    "tempInput = np.squeeze(currInput)\n",
    "print(tempInput[:3])\n",
    "print(tempInput.shape, currInput.shape)\n",
    "\n",
    "tempInput = np.append(tempInput[1:], y_pred_temp[0], axis=0)\n",
    "print(tempInput[:2])\n",
    "\n",
    "xIP = np.expand_dims(np.expand_dims(tempInput, axis=1), axis=0)\n",
    "print(xIP.shape)"
   ]
  }
 ],
 "metadata": {
  "accelerator": "GPU",
  "colab": {
   "collapsed_sections": [],
   "name": "timeSeries.ipynb",
   "provenance": []
  },
  "kernelspec": {
   "display_name": "Python 3",
   "language": "python",
   "name": "python3"
  },
  "language_info": {
   "codemirror_mode": {
    "name": "ipython",
    "version": 3
   },
   "file_extension": ".py",
   "mimetype": "text/x-python",
   "name": "python",
   "nbconvert_exporter": "python",
   "pygments_lexer": "ipython3",
   "version": "3.7.6"
  }
 },
 "nbformat": 4,
 "nbformat_minor": 1
}
