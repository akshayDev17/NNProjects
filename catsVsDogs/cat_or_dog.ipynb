{
 "cells": [
  {
   "cell_type": "code",
   "execution_count": 1,
   "metadata": {},
   "outputs": [],
   "source": [
    "import numpy as np\n",
    "import matplotlib.pyplot as plt\n",
    "import cv2 as cv\n",
    "import os\n",
    "import random"
   ]
  },
  {
   "cell_type": "markdown",
   "metadata": {},
   "source": [
    "### get all images in grayscale format"
   ]
  },
  {
   "cell_type": "code",
   "execution_count": 3,
   "metadata": {},
   "outputs": [],
   "source": [
    "data_dir = \"./PetImages/\"\n",
    "categories = [\"Cat\", \"Dog\"]\n",
    "\n",
    "# collect training data\n",
    "training_set = []\n",
    "\n",
    "for category in categories:\n",
    "    path = os.path.join(data_dir, category)\n",
    "    class_num = categories.index(category)\n",
    "    for img in os.listdir(path):\n",
    "        img_array = cv.imread(os.path.join(path, img), cv.IMREAD_GRAYSCALE)\n",
    "        if not img_array is None:\n",
    "            IMG_SIZE = 75\n",
    "            new_img_array = cv.resize(img_array, (IMG_SIZE, IMG_SIZE))\n",
    "            training_set.append([new_img_array, class_num])           "
   ]
  },
  {
   "cell_type": "markdown",
   "metadata": {},
   "source": [
    "#### Shuffle training data so that neural net does not get stuck into local minimas\n",
    "1. Prevent from getting mini-batches from highly corelated examples."
   ]
  },
  {
   "cell_type": "code",
   "execution_count": 4,
   "metadata": {},
   "outputs": [],
   "source": [
    "random.shuffle(training_set)"
   ]
  },
  {
   "cell_type": "code",
   "execution_count": 5,
   "metadata": {},
   "outputs": [
    {
     "name": "stdout",
     "output_type": "stream",
     "text": [
      "24946 24946\n"
     ]
    }
   ],
   "source": [
    "x, y = [], []\n",
    "for feature, label in training_set:\n",
    "    x.append(feature)\n",
    "    y.append(label)\n",
    "print(len(x), len(y))"
   ]
  },
  {
   "cell_type": "code",
   "execution_count": 6,
   "metadata": {},
   "outputs": [],
   "source": [
    "IMG_SIZE = 75"
   ]
  },
  {
   "cell_type": "markdown",
   "metadata": {},
   "source": [
    "### the last 1 is because the color used is grayscale"
   ]
  },
  {
   "cell_type": "code",
   "execution_count": 7,
   "metadata": {},
   "outputs": [],
   "source": [
    "x = np.array(x).reshape(-1, IMG_SIZE, IMG_SIZE, 1)\n",
    "y = np.array(y)"
   ]
  },
  {
   "cell_type": "code",
   "execution_count": 8,
   "metadata": {},
   "outputs": [
    {
     "name": "stdout",
     "output_type": "stream",
     "text": [
      "(24946, 75, 75, 1)\n"
     ]
    }
   ],
   "source": [
    "print(x.shape)"
   ]
  },
  {
   "cell_type": "markdown",
   "metadata": {},
   "source": [
    "### save your data "
   ]
  },
  {
   "cell_type": "code",
   "execution_count": 9,
   "metadata": {},
   "outputs": [],
   "source": [
    "import pickle\n",
    "\n",
    "pickle_out = open(\"x.pickle\", \"wb\")\n",
    "pickle.dump(x, pickle_out)\n",
    "pickle_out.close()\n",
    "\n",
    "pickle_out = open(\"y.pickle\", \"wb\")\n",
    "pickle.dump(y, pickle_out)\n",
    "pickle_out.close()"
   ]
  },
  {
   "cell_type": "markdown",
   "metadata": {},
   "source": [
    "### read saved data using pickle"
   ]
  },
  {
   "cell_type": "code",
   "execution_count": 3,
   "metadata": {},
   "outputs": [
    {
     "name": "stdout",
     "output_type": "stream",
     "text": [
      "(24946, 75, 75, 1)\n"
     ]
    }
   ],
   "source": [
    "import pickle\n",
    "\n",
    "pickle_in = open(\"x.pickle\", \"rb\")\n",
    "x1 = pickle.load(pickle_in)\n",
    "print(x1.shape)\n",
    "\n",
    "pickle_in = open(\"y.pickle\", \"rb\")\n",
    "y1 = pickle.load(pickle_in)"
   ]
  },
  {
   "cell_type": "code",
   "execution_count": 11,
   "metadata": {},
   "outputs": [],
   "source": [
    "import tensorflow as tf\n",
    "from tensorflow.keras.models import Sequential\n",
    "from tensorflow.keras.layers import Dense, Dropout, Activation, Flatten, Conv2D, MaxPooling2D"
   ]
  },
  {
   "cell_type": "code",
   "execution_count": 12,
   "metadata": {},
   "outputs": [],
   "source": [
    "x = x/255"
   ]
  },
  {
   "cell_type": "code",
   "execution_count": 13,
   "metadata": {},
   "outputs": [
    {
     "name": "stdout",
     "output_type": "stream",
     "text": [
      "[[[[0.50588235]\n",
      "   [0.4745098 ]\n",
      "   [0.50588235]\n",
      "   ...\n",
      "   [0.42745098]\n",
      "   [0.47843137]\n",
      "   [0.27843137]]\n",
      "\n",
      "  [[0.49411765]\n",
      "   [0.53333333]\n",
      "   [0.52941176]\n",
      "   ...\n",
      "   [0.40392157]\n",
      "   [0.19215686]\n",
      "   [0.22352941]]\n",
      "\n",
      "  [[0.5254902 ]\n",
      "   [0.51372549]\n",
      "   [0.56470588]\n",
      "   ...\n",
      "   [0.41176471]\n",
      "   [0.34901961]\n",
      "   [0.21176471]]\n",
      "\n",
      "  ...\n",
      "\n",
      "  [[0.67058824]\n",
      "   [0.60784314]\n",
      "   [0.58039216]\n",
      "   ...\n",
      "   [0.55294118]\n",
      "   [0.55294118]\n",
      "   [0.5372549 ]]\n",
      "\n",
      "  [[0.57254902]\n",
      "   [0.7372549 ]\n",
      "   [0.58431373]\n",
      "   ...\n",
      "   [0.6627451 ]\n",
      "   [0.58823529]\n",
      "   [0.54509804]]\n",
      "\n",
      "  [[0.56862745]\n",
      "   [0.62352941]\n",
      "   [0.56470588]\n",
      "   ...\n",
      "   [0.78431373]\n",
      "   [0.8745098 ]\n",
      "   [0.60784314]]]\n",
      "\n",
      "\n",
      " [[[0.52941176]\n",
      "   [0.54509804]\n",
      "   [0.54901961]\n",
      "   ...\n",
      "   [0.54117647]\n",
      "   [0.52941176]\n",
      "   [0.51764706]]\n",
      "\n",
      "  [[0.5372549 ]\n",
      "   [0.54901961]\n",
      "   [0.55686275]\n",
      "   ...\n",
      "   [0.54509804]\n",
      "   [0.5372549 ]\n",
      "   [0.5254902 ]]\n",
      "\n",
      "  [[0.54117647]\n",
      "   [0.55686275]\n",
      "   [0.56470588]\n",
      "   ...\n",
      "   [0.54509804]\n",
      "   [0.5372549 ]\n",
      "   [0.52941176]]\n",
      "\n",
      "  ...\n",
      "\n",
      "  [[0.62352941]\n",
      "   [0.6       ]\n",
      "   [0.54117647]\n",
      "   ...\n",
      "   [0.50980392]\n",
      "   [0.50588235]\n",
      "   [0.49411765]]\n",
      "\n",
      "  [[0.60392157]\n",
      "   [0.57254902]\n",
      "   [0.5254902 ]\n",
      "   ...\n",
      "   [0.49803922]\n",
      "   [0.50196078]\n",
      "   [0.48235294]]\n",
      "\n",
      "  [[0.58823529]\n",
      "   [0.55686275]\n",
      "   [0.49411765]\n",
      "   ...\n",
      "   [0.47058824]\n",
      "   [0.47058824]\n",
      "   [0.45490196]]]\n",
      "\n",
      "\n",
      " [[[0.8745098 ]\n",
      "   [0.86666667]\n",
      "   [0.8745098 ]\n",
      "   ...\n",
      "   [0.87058824]\n",
      "   [0.85882353]\n",
      "   [0.84705882]]\n",
      "\n",
      "  [[0.88235294]\n",
      "   [0.87843137]\n",
      "   [0.88235294]\n",
      "   ...\n",
      "   [0.88627451]\n",
      "   [0.8745098 ]\n",
      "   [0.86666667]]\n",
      "\n",
      "  [[0.89411765]\n",
      "   [0.88627451]\n",
      "   [0.89019608]\n",
      "   ...\n",
      "   [0.89019608]\n",
      "   [0.89019608]\n",
      "   [0.8627451 ]]\n",
      "\n",
      "  ...\n",
      "\n",
      "  [[0.52941176]\n",
      "   [0.55294118]\n",
      "   [0.52156863]\n",
      "   ...\n",
      "   [0.14901961]\n",
      "   [0.1254902 ]\n",
      "   [0.11764706]]\n",
      "\n",
      "  [[0.55294118]\n",
      "   [0.59215686]\n",
      "   [0.6       ]\n",
      "   ...\n",
      "   [0.13333333]\n",
      "   [0.12156863]\n",
      "   [0.10196078]]\n",
      "\n",
      "  [[0.58431373]\n",
      "   [0.55686275]\n",
      "   [0.56862745]\n",
      "   ...\n",
      "   [0.12156863]\n",
      "   [0.13333333]\n",
      "   [0.10980392]]]\n",
      "\n",
      "\n",
      " ...\n",
      "\n",
      "\n",
      " [[[0.64705882]\n",
      "   [0.61176471]\n",
      "   [0.62745098]\n",
      "   ...\n",
      "   [0.63137255]\n",
      "   [0.60784314]\n",
      "   [0.63921569]]\n",
      "\n",
      "  [[0.64313725]\n",
      "   [0.65490196]\n",
      "   [0.62745098]\n",
      "   ...\n",
      "   [0.63529412]\n",
      "   [0.63921569]\n",
      "   [0.65098039]]\n",
      "\n",
      "  [[0.63137255]\n",
      "   [0.64705882]\n",
      "   [0.63921569]\n",
      "   ...\n",
      "   [0.59607843]\n",
      "   [0.64313725]\n",
      "   [0.6627451 ]]\n",
      "\n",
      "  ...\n",
      "\n",
      "  [[0.48235294]\n",
      "   [0.48235294]\n",
      "   [0.4745098 ]\n",
      "   ...\n",
      "   [0.48627451]\n",
      "   [0.48627451]\n",
      "   [0.48627451]]\n",
      "\n",
      "  [[0.49019608]\n",
      "   [0.47843137]\n",
      "   [0.45490196]\n",
      "   ...\n",
      "   [0.48235294]\n",
      "   [0.48235294]\n",
      "   [0.49019608]]\n",
      "\n",
      "  [[0.47058824]\n",
      "   [0.47843137]\n",
      "   [0.48235294]\n",
      "   ...\n",
      "   [0.47843137]\n",
      "   [0.47843137]\n",
      "   [0.48627451]]]\n",
      "\n",
      "\n",
      " [[[0.38039216]\n",
      "   [0.3372549 ]\n",
      "   [0.29019608]\n",
      "   ...\n",
      "   [0.29411765]\n",
      "   [0.35686275]\n",
      "   [0.3254902 ]]\n",
      "\n",
      "  [[0.37647059]\n",
      "   [0.3372549 ]\n",
      "   [0.27843137]\n",
      "   ...\n",
      "   [0.32156863]\n",
      "   [0.36078431]\n",
      "   [0.31764706]]\n",
      "\n",
      "  [[0.35294118]\n",
      "   [0.3254902 ]\n",
      "   [0.27058824]\n",
      "   ...\n",
      "   [0.33333333]\n",
      "   [0.35294118]\n",
      "   [0.29803922]]\n",
      "\n",
      "  ...\n",
      "\n",
      "  [[0.3372549 ]\n",
      "   [0.38823529]\n",
      "   [0.52156863]\n",
      "   ...\n",
      "   [0.67058824]\n",
      "   [0.6745098 ]\n",
      "   [0.43529412]]\n",
      "\n",
      "  [[0.56470588]\n",
      "   [0.4745098 ]\n",
      "   [0.54509804]\n",
      "   ...\n",
      "   [0.69411765]\n",
      "   [0.23529412]\n",
      "   [0.32941176]]\n",
      "\n",
      "  [[0.5254902 ]\n",
      "   [0.59607843]\n",
      "   [0.65882353]\n",
      "   ...\n",
      "   [0.56078431]\n",
      "   [0.36862745]\n",
      "   [0.2627451 ]]]\n",
      "\n",
      "\n",
      " [[[0.3372549 ]\n",
      "   [0.30588235]\n",
      "   [0.4       ]\n",
      "   ...\n",
      "   [0.6627451 ]\n",
      "   [0.65882353]\n",
      "   [0.6627451 ]]\n",
      "\n",
      "  [[0.36078431]\n",
      "   [0.39607843]\n",
      "   [0.43137255]\n",
      "   ...\n",
      "   [0.65882353]\n",
      "   [0.65490196]\n",
      "   [0.65882353]]\n",
      "\n",
      "  [[0.40392157]\n",
      "   [0.4       ]\n",
      "   [0.37254902]\n",
      "   ...\n",
      "   [0.65882353]\n",
      "   [0.65882353]\n",
      "   [0.65882353]]\n",
      "\n",
      "  ...\n",
      "\n",
      "  [[0.97647059]\n",
      "   [0.98823529]\n",
      "   [0.97254902]\n",
      "   ...\n",
      "   [0.57647059]\n",
      "   [0.62745098]\n",
      "   [0.54901961]]\n",
      "\n",
      "  [[0.98823529]\n",
      "   [0.98431373]\n",
      "   [0.97647059]\n",
      "   ...\n",
      "   [0.56470588]\n",
      "   [0.65490196]\n",
      "   [0.58431373]]\n",
      "\n",
      "  [[0.98431373]\n",
      "   [0.98431373]\n",
      "   [0.96078431]\n",
      "   ...\n",
      "   [0.61960784]\n",
      "   [0.59607843]\n",
      "   [0.58431373]]]]\n"
     ]
    }
   ],
   "source": [
    "print(x)"
   ]
  },
  {
   "cell_type": "code",
   "execution_count": 14,
   "metadata": {},
   "outputs": [
    {
     "name": "stdout",
     "output_type": "stream",
     "text": [
      "Train on 22451 samples, validate on 2495 samples\n",
      "22451/22451 [==============================] - 193s 9ms/sample - loss: 0.5924 - accuracy: 0.6776 - val_loss: 0.4991 - val_accuracy: 0.7579\n"
     ]
    },
    {
     "data": {
      "text/plain": [
       "<tensorflow.python.keras.callbacks.History at 0x7f28f123f668>"
      ]
     },
     "execution_count": 14,
     "metadata": {},
     "output_type": "execute_result"
    }
   ],
   "source": [
    "model = Sequential()\n",
    "model.add(Conv2D(64, (3, 3), input_shape = x.shape[1:]))\n",
    "model.add(Activation(\"relu\"))\n",
    "model.add(MaxPooling2D(pool_size=(2,2)))\n",
    "\n",
    "model.add(Conv2D(64, (3, 3)))\n",
    "model.add(Activation(\"relu\"))\n",
    "model.add(MaxPooling2D(pool_size=(2,2)))\n",
    "\n",
    "model.add(Flatten())\n",
    "model.add(Dense(64))\n",
    "\n",
    "model.add(Dense(1))\n",
    "model.add(Activation(\"sigmoid\"))\n",
    "\n",
    "model.compile(optimizer=\"adam\", loss=\"binary_crossentropy\", metrics=[\"accuracy\"])\n",
    "\n"
   ]
  },
  {
   "cell_type": "code",
   "execution_count": 32,
   "metadata": {},
   "outputs": [
    {
     "name": "stdout",
     "output_type": "stream",
     "text": [
      "Train on 22451 samples, validate on 2495 samples\n",
      "Epoch 1/5\n",
      "22451/22451 [==============================] - 192s 9ms/sample - loss: 0.4920 - accuracy: 0.7644 - val_loss: 0.4713 - val_accuracy: 0.7808\n",
      "Epoch 2/5\n",
      "22451/22451 [==============================] - 209s 9ms/sample - loss: 0.4502 - accuracy: 0.7902 - val_loss: 0.4506 - val_accuracy: 0.7816\n",
      "Epoch 3/5\n",
      "22451/22451 [==============================] - 210s 9ms/sample - loss: 0.4097 - accuracy: 0.8124 - val_loss: 0.4528 - val_accuracy: 0.7984\n",
      "Epoch 4/5\n",
      "22451/22451 [==============================] - 192s 9ms/sample - loss: 0.3784 - accuracy: 0.8299 - val_loss: 0.4670 - val_accuracy: 0.7920\n",
      "Epoch 5/5\n",
      "22451/22451 [==============================] - 189s 8ms/sample - loss: 0.3540 - accuracy: 0.8438 - val_loss: 0.4707 - val_accuracy: 0.7960\n"
     ]
    },
    {
     "data": {
      "text/plain": [
       "<tensorflow.python.keras.callbacks.History at 0x7f2842ecb860>"
      ]
     },
     "execution_count": 32,
     "metadata": {},
     "output_type": "execute_result"
    }
   ],
   "source": [
    "model.fit(x, y, batch_size=32, validation_split=0.1, epochs=5)"
   ]
  },
  {
   "cell_type": "code",
   "execution_count": 15,
   "metadata": {},
   "outputs": [],
   "source": [
    "my_dict = {0:\"cat\", 1:\"dog\"}"
   ]
  },
  {
   "cell_type": "code",
   "execution_count": 51,
   "metadata": {},
   "outputs": [
    {
     "name": "stdout",
     "output_type": "stream",
     "text": [
      "lioness1.jpeg dog\n",
      "hyena.jpeg dog\n",
      "catAndDog1.jpg dog\n",
      "fox1.jpg dog\n",
      "cat2.jpg cat\n",
      "hybrid1.jpeg dog\n",
      "catAndDog2.jpeg dog\n",
      "cat1.png cat\n",
      "simba.jpg dog\n"
     ]
    }
   ],
   "source": [
    "my_test_dir = \"./myTest\"\n",
    "for image in os.listdir(my_test_dir):\n",
    "    image_path = os.path.join(my_test_dir, image)\n",
    "    img_data = cv.imread(image_path, cv.IMREAD_GRAYSCALE)\n",
    "    img_data = img_data / 255\n",
    "    new_img_array = cv.resize(img_data, (IMG_SIZE, IMG_SIZE))\n",
    "    new_img_data = new_img_array.reshape(1, IMG_SIZE, IMG_SIZE, 1)\n",
    "    print(image , my_dict[int(round(model.predict(new_img_data)[0, 0]))])"
   ]
  },
  {
   "cell_type": "code",
   "execution_count": 52,
   "metadata": {},
   "outputs": [
    {
     "name": "stdout",
     "output_type": "stream",
     "text": [
      "Model: \"sequential\"\n",
      "_________________________________________________________________\n",
      "Layer (type)                 Output Shape              Param #   \n",
      "=================================================================\n",
      "conv2d (Conv2D)              (None, 73, 73, 64)        640       \n",
      "_________________________________________________________________\n",
      "activation (Activation)      (None, 73, 73, 64)        0         \n",
      "_________________________________________________________________\n",
      "max_pooling2d (MaxPooling2D) (None, 36, 36, 64)        0         \n",
      "_________________________________________________________________\n",
      "conv2d_1 (Conv2D)            (None, 34, 34, 64)        36928     \n",
      "_________________________________________________________________\n",
      "activation_1 (Activation)    (None, 34, 34, 64)        0         \n",
      "_________________________________________________________________\n",
      "max_pooling2d_1 (MaxPooling2 (None, 17, 17, 64)        0         \n",
      "_________________________________________________________________\n",
      "flatten (Flatten)            (None, 18496)             0         \n",
      "_________________________________________________________________\n",
      "dense (Dense)                (None, 64)                1183808   \n",
      "_________________________________________________________________\n",
      "dense_1 (Dense)              (None, 1)                 65        \n",
      "_________________________________________________________________\n",
      "activation_2 (Activation)    (None, 1)                 0         \n",
      "=================================================================\n",
      "Total params: 1,221,441\n",
      "Trainable params: 1,221,441\n",
      "Non-trainable params: 0\n",
      "_________________________________________________________________\n"
     ]
    }
   ],
   "source": [
    "model.summary()"
   ]
  },
  {
   "cell_type": "markdown",
   "metadata": {},
   "source": [
    "### Comparison with linear regression"
   ]
  },
  {
   "cell_type": "code",
   "execution_count": 1,
   "metadata": {},
   "outputs": [],
   "source": [
    "from sklearn.linear_model import LinearRegression, Ridge, Lasso\n",
    "from sklearn.model_selection import train_test_split"
   ]
  },
  {
   "cell_type": "code",
   "execution_count": 15,
   "metadata": {},
   "outputs": [
    {
     "name": "stdout",
     "output_type": "stream",
     "text": [
      "(24946, 5625)\n"
     ]
    }
   ],
   "source": [
    "train_shape = x1.shape\n",
    "nextd = train_shape[1]*train_shape[2]*train_shape[3]\n",
    "x = x1.reshape(train_shape[0], nextd)\n",
    "print(x.shape)"
   ]
  },
  {
   "cell_type": "code",
   "execution_count": 20,
   "metadata": {},
   "outputs": [
    {
     "name": "stdout",
     "output_type": "stream",
     "text": [
      "(24946,)\n"
     ]
    }
   ],
   "source": [
    "print(y1.shape)"
   ]
  },
  {
   "cell_type": "code",
   "execution_count": 23,
   "metadata": {},
   "outputs": [],
   "source": [
    "x_train,  x_test,y_train, y_test = train_test_split(x, y1, test_size=0.25)"
   ]
  },
  {
   "cell_type": "code",
   "execution_count": 24,
   "metadata": {},
   "outputs": [
    {
     "name": "stdout",
     "output_type": "stream",
     "text": [
      "(18709, 5625) (18709,)\n"
     ]
    }
   ],
   "source": [
    "print(x_train.shape, y_train.shape)"
   ]
  },
  {
   "cell_type": "code",
   "execution_count": 31,
   "metadata": {},
   "outputs": [
    {
     "data": {
      "text/plain": [
       "Lasso(alpha=1000, copy_X=True, fit_intercept=True, max_iter=1000,\n",
       "      normalize=False, positive=False, precompute=False, random_state=None,\n",
       "      selection='cyclic', tol=0.0925, warm_start=False)"
      ]
     },
     "execution_count": 31,
     "metadata": {},
     "output_type": "execute_result"
    }
   ],
   "source": [
    "linear_reg_model = LinearRegression()\n",
    "ridge_model = Ridge(alpha=100)\n",
    "lasso_model = Lasso(alpha=1000, tol=0.0925)\n",
    "\n",
    "linear_reg_model.fit(x_train, y_train)\n",
    "ridge_model.fit(x_train, y_train)\n",
    "lasso_model.fit(x_train, y_train)"
   ]
  },
  {
   "cell_type": "code",
   "execution_count": 30,
   "metadata": {},
   "outputs": [
    {
     "name": "stdout",
     "output_type": "stream",
     "text": [
      "Linear regression score -0.45679994391884415\n",
      "Ridge regression score -0.45679989325125286\n",
      "Lasso regression score 0.00838479844109774\n"
     ]
    }
   ],
   "source": [
    "print(\"Linear regression score\", linear_reg_model.score(x_test, y_test))\n",
    "print(\"Ridge regression score\", ridge_model.score(x_test, y_test))\n",
    "print(\"Lasso regression score\", lasso_model.score(x_test, y_test))"
   ]
  }
 ],
 "metadata": {
  "kernelspec": {
   "display_name": "Python 3",
   "language": "python",
   "name": "python3"
  },
  "language_info": {
   "codemirror_mode": {
    "name": "ipython",
    "version": 3
   },
   "file_extension": ".py",
   "mimetype": "text/x-python",
   "name": "python",
   "nbconvert_exporter": "python",
   "pygments_lexer": "ipython3",
   "version": "3.7.3"
  }
 },
 "nbformat": 4,
 "nbformat_minor": 2
}
